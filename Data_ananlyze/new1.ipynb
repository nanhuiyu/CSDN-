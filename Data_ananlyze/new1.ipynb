{
 "cells": [
  {
   "cell_type": "code",
   "execution_count": 2,
   "id": "a37d5128",
   "metadata": {},
   "outputs": [],
   "source": [
    "import numpy as np # 导入numpy，取别名为np"
   ]
  },
  {
   "cell_type": "markdown",
   "id": "85508795",
   "metadata": {},
   "source": [
    "```python\n",
    "numpy.array(): 创建一个数组，类型为numpy.ndarray，例如：\n",
    "    arr = numpy.array()\n",
    "array.dim: 输出数据的维度信息\n",
    "```"
   ]
  },
  {
   "cell_type": "code",
   "execution_count": 3,
   "id": "8946c178",
   "metadata": {},
   "outputs": [
    {
     "name": "stdout",
     "output_type": "stream",
     "text": [
      "data1: 5, type: <class 'numpy.ndarray'>, dtype: 0\n"
     ]
    }
   ],
   "source": [
    "data1 = np.array(\n",
    "    5\n",
    ") # 创建一个 0维 的ndarray\n",
    "print(f\"data1: {data1}, type: {type(data1)}, dtype: {data1.ndim}\") # arr.ndim： 输出数据的维度"
   ]
  },
  {
   "cell_type": "code",
   "execution_count": 4,
   "id": "2e9b7046",
   "metadata": {},
   "outputs": [
    {
     "name": "stdout",
     "output_type": "stream",
     "text": [
      "data2: [5], type: <class 'numpy.ndarray'>, dtype: 1\n"
     ]
    }
   ],
   "source": [
    "data2 = np.array([\n",
    "    5,\n",
    "]) # 创建一个 1维 的 ndarray\n",
    "print(f\"data2: {data2}, type: {type(data2)}, dtype: {data2.ndim}\")"
   ]
  },
  {
   "cell_type": "code",
   "execution_count": 5,
   "id": "60f964c9",
   "metadata": {},
   "outputs": [
    {
     "name": "stdout",
     "output_type": "stream",
     "text": [
      "data3: [[1 2]\n",
      " [2 3]], type: <class 'numpy.ndarray'>, dtype: 2\n"
     ]
    }
   ],
   "source": [
    "data3 = np.array([\n",
    "    [1, 2], [2, 3],\n",
    "]) # 创建一个 2维 的 ndarray\n",
    "print(f\"data3: {data3}, type: {type(data3)}, dtype: {data3.ndim}\")"
   ]
  },
  {
   "cell_type": "code",
   "execution_count": 6,
   "id": "aaa7df73",
   "metadata": {},
   "outputs": [
    {
     "name": "stdout",
     "output_type": "stream",
     "text": [
      "data4: [[[1 2 3]\n",
      "  [2 3 4]]], type: <class 'numpy.ndarray'>, dtype: 3\n"
     ]
    }
   ],
   "source": [
    "data4 = np.array([\n",
    "    [[1, 2, 3], [2, 3, 4]],\n",
    "]) # 创建一个 3维 的 ndarray\n",
    "print(f\"data4: {data4}, type: {type(data4)}, dtype: {data4.ndim}\")"
   ]
  },
  {
   "cell_type": "markdown",
   "id": "4be73d1d",
   "metadata": {},
   "source": [
    "```python\n",
    "\n",
    "关于ndarray同质性的问题：\n",
    "当创建一个ndarray：\n",
    "arr = numpy.array([\n",
    "        1,\n",
    "        \"hello\",\n",
    "])\n",
    "结果 可以创建成功，但是会自动做同质化数据转换，例如：\n",
    "- 数字 + 字符串 -> 字符串\n",
    "- 整数 + 浮点数 -> 浮点数\n",
    "```"
   ]
  },
  {
   "cell_type": "code",
   "execution_count": 7,
   "id": "2e05a086",
   "metadata": {},
   "outputs": [
    {
     "name": "stdout",
     "output_type": "stream",
     "text": [
      "data5: ['1' 'hello'], type: <class 'numpy.ndarray'>, dtype: 1\n"
     ]
    }
   ],
   "source": [
    "data5 = np.array([\n",
    "    1,\n",
    "    \"hello\",\n",
    "])\n",
    "print(f\"data5: {data5}, type: {type(data5)}, dtype: {data5.ndim}\")"
   ]
  },
  {
   "cell_type": "code",
   "execution_count": 8,
   "id": "f3840cc8",
   "metadata": {},
   "outputs": [
    {
     "name": "stdout",
     "output_type": "stream",
     "text": [
      "data6: [1.  2.3], type: <class 'numpy.ndarray'>, dtype: 1\n"
     ]
    }
   ],
   "source": [
    "data6 = np.array([\n",
    "    1,\n",
    "    2.3,\n",
    "])\n",
    "print(f\"data6: {data6}, type: {type(data6)}, dtype: {data6.ndim}\")"
   ]
  },
  {
   "cell_type": "markdown",
   "id": "27edea6e",
   "metadata": {},
   "source": [
    "ndarray的属性:\n",
    "- 1，shape： 数组的形状，包括行数、列数等\n",
    "- 2， ndim：数组的维度数量\n",
    "- 3， size：数组中总的元素个数\n",
    "- 4， dtype： 元素类型"
   ]
  },
  {
   "cell_type": "code",
   "execution_count": 9,
   "id": "77323a26",
   "metadata": {},
   "outputs": [
    {
     "name": "stdout",
     "output_type": "stream",
     "text": [
      "data6.shape: (2,), data6.ndim: 1, data6.size: 2, data6.dtype: float64\n"
     ]
    }
   ],
   "source": [
    "print(f\"data6.shape: {data6.shape}, data6.ndim: {data6.ndim}, data6.size: {data6.size}, data6.dtype: {data6.dtype}\")"
   ]
  },
  {
   "cell_type": "markdown",
   "id": "e1f2b01e",
   "metadata": {},
   "source": [
    "| <center>用途</center>               | <center>方法</center>                                                                 |\n",
    "|--------------------|----------------------------------------------------------------------|\n",
    "| <center>基础构造</center>           |<center> `numpy.array()`、 `numpy.copy()`</center>                                             |\n",
    "| <center>预定义形状填充</center>     |<center>`numpy.zeros()`、 `numpy.ones()`、 `numpy.empty()`、 `numpy.full()`</center>                    |\n",
    "| <center>基于数值范围生成</center>   |<center>`numpy.arange()` 、`numpy.linspace()`、 `numpy.logspace()`</center>                        |\n",
    "| <center>特殊矩阵生成</center>       |<center>`numpy.eye()`、 `numpy.diag()`</center>                                               |\n",
    "| <center>随机数组生成</center>       |<center>`numpy.random.rand()`、 `numpy.random.randn()` 、`numpy.random.randint()`</center>         |\n",
    "| <center>高级构造方法</center>       |<center>`numpy.array()`、 `numpy.loadtxt()`、 `numpy.fromfunction()`</center>                      |\n",
    "|<center>基于已知数组创建</center>    |<center>`numpy.zeros_like()`、`numpy.ones_like()`、`numpy.empty_like()`、`numpy.full_like()`</center>        |"
   ]
  },
  {
   "cell_type": "code",
   "execution_count": 10,
   "id": "ddc78b58",
   "metadata": {},
   "outputs": [
    {
     "name": "stdout",
     "output_type": "stream",
     "text": [
      "new1: [1 2 3]\n",
      "[1. 2. 3.]\n",
      "float64\n",
      "1\n"
     ]
    }
   ],
   "source": [
    "new1 = np.array([1,2,3])\n",
    "print(f\"new1: {new1}\")\n",
    "\n",
    "list1 = np.array(new1, dtype=np.float64)\n",
    "print(list1, list1.dtype, list1.ndim, sep=\"\\n\")"
   ]
  },
  {
   "cell_type": "code",
   "execution_count": 11,
   "id": "5078d4d8",
   "metadata": {},
   "outputs": [
    {
     "name": "stdout",
     "output_type": "stream",
     "text": [
      "[0 0]\n",
      "int64\n",
      "1\n"
     ]
    }
   ],
   "source": [
    "list2 = np.zeros([2, ], dtype=np.int64) # 创建一维数组，只需要填入个数即可\n",
    "print(list2, list2.dtype, list2.ndim, sep=\"\\n\")"
   ]
  },
  {
   "cell_type": "code",
   "execution_count": 12,
   "id": "95e6b87b",
   "metadata": {},
   "outputs": [
    {
     "data": {
      "text/plain": [
       "array([1, 2, 3])"
      ]
     },
     "execution_count": 12,
     "metadata": {},
     "output_type": "execute_result"
    }
   ],
   "source": [
    "new2 = np.copy(new1) # copy：复制相关的数组到新数组\n",
    "new2"
   ]
  },
  {
   "cell_type": "code",
   "execution_count": 13,
   "id": "d8472f91",
   "metadata": {},
   "outputs": [
    {
     "name": "stdout",
     "output_type": "stream",
     "text": [
      "[[0 0 0]\n",
      " [0 0 0]]\n",
      "int64\n",
      "2\n"
     ]
    }
   ],
   "source": [
    "new3 = np.zeros([2, 3], dtype=np.int64) # 创建两行三列的 全零 数组，可以指定类型，默认 np.float64\n",
    "print(new3, new3.dtype, new3.ndim, sep=\"\\n\")"
   ]
  },
  {
   "cell_type": "code",
   "execution_count": 14,
   "id": "0a2c01fc",
   "metadata": {},
   "outputs": [
    {
     "name": "stdout",
     "output_type": "stream",
     "text": [
      "[[1. 1. 1.]\n",
      " [1. 1. 1.]]\n",
      "float64\n",
      "2\n"
     ]
    }
   ],
   "source": [
    "new4 = np.ones([2, 3]) # 创建两行三列的 全1 数组，dtype=np.float64\n",
    "print(new4, new4.dtype, new4.ndim, sep=\"\\n\")"
   ]
  },
  {
   "cell_type": "code",
   "execution_count": 15,
   "id": "0d9d8e3e",
   "metadata": {},
   "outputs": [
    {
     "name": "stdout",
     "output_type": "stream",
     "text": [
      "[[1. 1. 1.]\n",
      " [1. 1. 1.]]\n",
      "float64\n",
      "2\n"
     ]
    }
   ],
   "source": [
    "new5 = np.empty([2, 3]) # 创建两行三列的 未初始化的随机值的 数组\n",
    "print(new5, new5.dtype, new5.ndim, sep=\"\\n\")"
   ]
  },
  {
   "cell_type": "code",
   "execution_count": 16,
   "id": "cc1cf1fb",
   "metadata": {},
   "outputs": [
    {
     "name": "stdout",
     "output_type": "stream",
     "text": [
      "[0. 0. 0. 0. 0. 0. 0. 0. 0. 0.]\n",
      "float64\n",
      "1\n"
     ]
    }
   ],
   "source": [
    "new5 = np.zeros([10, ]) # 创建1维 全0 数组\n",
    "print(new5, new5.dtype, new5.ndim, sep=\"\\n\")"
   ]
  },
  {
   "cell_type": "code",
   "execution_count": 17,
   "id": "dda3af3b",
   "metadata": {},
   "outputs": [
    {
     "name": "stdout",
     "output_type": "stream",
     "text": [
      "[[2025 2025 2025 2025]\n",
      " [2025 2025 2025 2025]\n",
      " [2025 2025 2025 2025]]\n",
      "int64\n",
      "2\n"
     ]
    }
   ],
   "source": [
    "new6 = np.full([3, 4], 2025) # 指定形状和填充值的数组创建\n",
    "print(new6, new6.dtype, new6.ndim, sep=\"\\n\")"
   ]
  },
  {
   "cell_type": "code",
   "execution_count": 18,
   "id": "fd5a28c0",
   "metadata": {},
   "outputs": [
    {
     "name": "stdout",
     "output_type": "stream",
     "text": [
      "[[0 0 0 0]\n",
      " [0 0 0 0]\n",
      " [0 0 0 0]]\n",
      "int64\n",
      "2\n"
     ]
    }
   ],
   "source": [
    "new7 = np.zeros_like(new6) # 创建一个和已知数组形状相似的全零数组\n",
    "print(new7, new7.dtype, new7.ndim, sep=\"\\n\")"
   ]
  },
  {
   "cell_type": "code",
   "execution_count": 19,
   "id": "d91c0c23",
   "metadata": {},
   "outputs": [
    {
     "name": "stdout",
     "output_type": "stream",
     "text": [
      "[1 3 5 7 9]\n",
      "int64\n",
      "1\n"
     ]
    }
   ],
   "source": [
    "new8 = np.arange(1, 10, 2) # 创建一个指定起始范围(左闭右开)和步长的数组\n",
    "print(new8, new8.dtype, new8.ndim, sep=\"\\n\")"
   ]
  },
  {
   "cell_type": "code",
   "execution_count": 20,
   "id": "b1a0e976",
   "metadata": {},
   "outputs": [
    {
     "name": "stdout",
     "output_type": "stream",
     "text": [
      "[ 1.    3.25  5.5   7.75 10.  ]\n",
      "float64\n",
      "1\n",
      "5\n"
     ]
    }
   ],
   "source": [
    "new9 = np.linspace(1, 10, 5) # 指定生成等间隔的序列，[起始点， 结束点， 数据个数]\n",
    "print(new9, new9.dtype, new9.ndim, new9.size, sep=\"\\n\")"
   ]
  },
  {
   "cell_type": "code",
   "execution_count": 21,
   "id": "8e4679d2",
   "metadata": {},
   "outputs": [
    {
     "name": "stdout",
     "output_type": "stream",
     "text": [
      "[ 2.  4.  8. 16. 32.]\n",
      "float64\n",
      "1\n",
      "5\n"
     ]
    }
   ],
   "source": [
    "new10 = np.logspace(1, 5, 5, base=2) # 对数间隔数列，指定开始点和结束点以及需要的个数，指定基数base\n",
    "print(new10, new10.dtype, new10.ndim, new10.size, sep=\"\\n\")"
   ]
  },
  {
   "cell_type": "code",
   "execution_count": 22,
   "id": "88eddf35",
   "metadata": {},
   "outputs": [
    {
     "name": "stdout",
     "output_type": "stream",
     "text": [
      "[[1 0 0 0 0]\n",
      " [0 1 0 0 0]\n",
      " [0 0 1 0 0]\n",
      " [0 0 0 1 0]\n",
      " [0 0 0 0 1]]\n",
      "int64\n",
      "2\n",
      "25\n"
     ]
    }
   ],
   "source": [
    "new11 = np.eye(5, dtype=np.int64) # 单位矩阵的构造\n",
    "print(new11, new11.dtype, new11.ndim, new11.size, sep=\"\\n\")"
   ]
  },
  {
   "cell_type": "code",
   "execution_count": 23,
   "id": "b0ffc54c",
   "metadata": {},
   "outputs": [
    {
     "name": "stdout",
     "output_type": "stream",
     "text": [
      "[[1 0 0 0]\n",
      " [0 2 0 0]\n",
      " [0 0 3 0]\n",
      " [0 0 0 4]]\n",
      "int64\n",
      "2\n",
      "16\n"
     ]
    }
   ],
   "source": [
    "new12 = np.diag([1,2,3,4]) # 创建一个主对角线上元素指定、其余部分为零的矩阵\n",
    "print(new12, new12.dtype, new12.ndim, new12.size, sep=\"\\n\")"
   ]
  },
  {
   "cell_type": "code",
   "execution_count": 24,
   "id": "0c948228",
   "metadata": {},
   "outputs": [
    {
     "name": "stdout",
     "output_type": "stream",
     "text": [
      "[[0.64859002 0.30610052 0.37857958]\n",
      " [0.77388519 0.09495973 0.11559632]]\n",
      "float64\n",
      "2\n",
      "6\n"
     ]
    }
   ],
   "source": [
    "new13 = np.random.rand(2, 3) # 创建一个在0~1之间均匀分布的随机数组\n",
    "print(new13, new13.dtype, new13.ndim, new13.size, sep=\"\\n\")"
   ]
  },
  {
   "cell_type": "code",
   "execution_count": 25,
   "id": "ae9392cc",
   "metadata": {},
   "outputs": [
    {
     "name": "stdout",
     "output_type": "stream",
     "text": [
      "[[3.66921361 5.04148244 5.49994867]\n",
      " [4.27440854 5.82238601 3.1937516 ]\n",
      " [5.52268374 3.59034965 5.24874464]]\n",
      "float64\n",
      "2\n",
      "9\n"
     ]
    }
   ],
   "source": [
    "new14 = np.random.uniform(3, 6, [3, 3]) # 生成一个指定形状和指定区间范围的均匀分布的随机数组\n",
    "print(new14, new14.dtype, new14.ndim, new14.size, sep=\"\\n\")"
   ]
  },
  {
   "cell_type": "code",
   "execution_count": 26,
   "id": "846a92a4",
   "metadata": {},
   "outputs": [
    {
     "name": "stdout",
     "output_type": "stream",
     "text": [
      "[[3 3 4]\n",
      " [3 5 3]\n",
      " [3 5 5]]\n",
      "int32\n",
      "2\n",
      "9\n"
     ]
    }
   ],
   "source": [
    "new15 = np.random.randint(3, 6, [3, 3]) # 生成一个指定形状和指定区间范围的均匀分布的整型随机数组\n",
    "print(new15, new15.dtype, new15.ndim, new15.size, sep=\"\\n\")"
   ]
  },
  {
   "cell_type": "code",
   "execution_count": 27,
   "id": "0aacf31e",
   "metadata": {},
   "outputs": [
    {
     "name": "stdout",
     "output_type": "stream",
     "text": [
      "[[ 0.38050322  0.70593953  0.50624302  2.23361336  0.15422499  0.05715397]\n",
      " [ 0.24022779 -0.9746798  -0.78051862 -0.07282461 -1.37936087  0.60484925]\n",
      " [-0.74554523  0.04338461  1.72413962  0.41734556 -2.12078189  0.43472093]]\n",
      "float64\n",
      "2\n",
      "18\n"
     ]
    }
   ],
   "source": [
    "new16 = np.random.randn(3, 6) # 生成一个指定形状和指定区间范围的正态分布的整型随机数组，高斯分布，生成在(-3, 3)之间的\n",
    "print(new16, new16.dtype, new16.ndim, new16.size, sep=\"\\n\")"
   ]
  },
  {
   "cell_type": "code",
   "execution_count": 28,
   "id": "87cbffda",
   "metadata": {},
   "outputs": [
    {
     "name": "stdout",
     "output_type": "stream",
     "text": [
      "[[ 0.88389311  0.19586502  0.35753652 -2.34326191 -1.08483259  0.55969629]\n",
      " [ 0.93946935 -0.97848104  0.50309684  0.40641447  0.32346101 -0.49341088]\n",
      " [-0.79201679 -0.84236793 -1.27950266  0.24571517 -0.0441948   1.56763255]]\n",
      "float64\n",
      "2\n",
      "18\n"
     ]
    }
   ],
   "source": [
    "np.random.seed(20) # 设置随机种子\n",
    "new17 = np.random.randn(3, 6) # 生成一个指定形状和指定区间范围的正态分布的整型随机数组，高斯分布，生成在(-3, 3)之间的\n",
    "print(new17, new17.dtype, new17.ndim, new17.size, sep=\"\\n\")"
   ]
  },
  {
   "cell_type": "code",
   "execution_count": 29,
   "id": "f993252e",
   "metadata": {},
   "outputs": [
    {
     "name": "stdout",
     "output_type": "stream",
     "text": [
      "new17[2][3]: 0.24571516951123312\n",
      "\n",
      "通过位置切片索引：new17[:2]:\n",
      " [[ 0.88389311  0.19586502  0.35753652 -2.34326191 -1.08483259  0.55969629]\n",
      " [ 0.93946935 -0.97848104  0.50309684  0.40641447  0.32346101 -0.49341088]]\n",
      "\n",
      "通过slice函数索引：new17[:2]:\n",
      " [[ 0.88389311  0.19586502  0.35753652 -2.34326191 -1.08483259  0.55969629]\n",
      " [ 0.93946935 -0.97848104  0.50309684  0.40641447  0.32346101 -0.49341088]]\n",
      "\n",
      "new17[2][:3]: [-0.79201679 -0.84236793 -1.27950266]\n",
      "\n",
      "new17第四列：[-2.34326191  0.40641447  0.24571517]\n",
      "new17第二行：[ 0.93946935 -0.97848104  0.50309684  0.40641447  0.32346101 -0.49341088]\n"
     ]
    }
   ],
   "source": [
    "print(f\"new17[2][3]: {new17[2][3]}\\n\")\n",
    "print(f\"通过位置切片索引：new17[:2]:\\n {new17[:2]}\\n\") # 位置索引依旧左闭右开\n",
    "\n",
    "# 通过slice函数进行索引，左闭右开，slice(start, end, step)\n",
    "print(f\"通过slice函数索引：new17[:2]:\\n {new17[slice(0,2)]}\\n\")\n",
    "\n",
    "print(f\"new17[2][:3]: {new17[2][:3]}\\n\")\n",
    "print(f\"new17第四列：{new17[:, 3]}\") # 获取某一列\n",
    "print(f\"new17第二行：{new17[1]}\")"
   ]
  },
  {
   "cell_type": "code",
   "execution_count": 30,
   "id": "2e897812",
   "metadata": {},
   "outputs": [
    {
     "name": "stdout",
     "output_type": "stream",
     "text": [
      "new17[2]: [-0.79201679 -0.84236793 -1.27950266  0.24571517 -0.0441948   1.56763255]\n",
      "\n",
      "new17[2]中所有小于0的值: [-0.79201679 -0.84236793 -1.27950266 -0.0441948 ]\n",
      "\n",
      "new17[2]中所有小于0且大于-1的值: [-0.79201679 -0.84236793 -0.0441948 ]\n",
      "\n"
     ]
    }
   ],
   "source": [
    "print(f\"new17[2]: {new17[2]}\\n\")\n",
    "\n",
    "# 传入的索引类型为bool，筛选对应维度中满足bool条件的值，可以通过 &、 | 将多条件并联\n",
    "print(f\"new17[2]中所有小于0的值: {new17[2][new17[2]<0]}\\n\")\n",
    "print(f\"new17[2]中所有小于0且大于-1的值: {new17[2][(new17[2] < 0) & (new17[2] > -1)]}\\n\")"
   ]
  },
  {
   "cell_type": "code",
   "execution_count": 31,
   "id": "d4476034",
   "metadata": {},
   "outputs": [],
   "source": [
    "np.random.seed(200)"
   ]
  },
  {
   "cell_type": "code",
   "execution_count": 32,
   "id": "96c719a5",
   "metadata": {},
   "outputs": [
    {
     "name": "stdout",
     "output_type": "stream",
     "text": [
      "arr1:\n",
      " [[27 17 69 43]\n",
      " [56 77 80 90]]\n",
      "arr2:\n",
      " [[ 16 187  91 141]\n",
      " [136  44  58   3]]\n",
      "arr3:\n",
      " [[ 10  54 204 146]\n",
      " [132 241 282  88]\n",
      " [266 275 294 247]]\n"
     ]
    }
   ],
   "source": [
    "arr1 = np.random.randint(1, 100, (2, 4))\n",
    "arr2 = np.random.randint(2, 200, (2, 4))\n",
    "arr3 = np.random.randint(3, 300, (3, 4))\n",
    "print(f\"arr1:\\n {arr1}\")\n",
    "print(f\"arr2:\\n {arr2}\")\n",
    "print(f\"arr3:\\n {arr3}\")"
   ]
  },
  {
   "cell_type": "code",
   "execution_count": 33,
   "id": "70680466",
   "metadata": {},
   "outputs": [
    {
     "name": "stdout",
     "output_type": "stream",
     "text": [
      "arr1+arr2:\n",
      " [[ 43 204 160 184]\n",
      " [192 121 138  93]]\n",
      "arr1-arr2:\n",
      " [[  11 -170  -22  -98]\n",
      " [ -80   33   22   87]]\n",
      "arr1xarr2:\n",
      " [[ 432 3179 6279 6063]\n",
      " [7616 3388 4640  270]]\n",
      "arr1/arr2:\n",
      " [[ 1.6875      0.09090909  0.75824176  0.30496454]\n",
      " [ 0.41176471  1.75        1.37931034 30.        ]]\n"
     ]
    }
   ],
   "source": [
    "print(f\"arr1+arr2:\\n {arr1 + arr2}\")\n",
    "print(f\"arr1-arr2:\\n {arr1 - arr2}\")\n",
    "print(f\"arr1xarr2:\\n {arr1 * arr2}\")\n",
    "print(f\"arr1/arr2:\\n {arr1 / arr2}\")"
   ]
  },
  {
   "cell_type": "code",
   "execution_count": 34,
   "id": "c4d7ff94",
   "metadata": {},
   "outputs": [
    {
     "name": "stdout",
     "output_type": "stream",
     "text": [
      "arr3:\n",
      " [[ 10  54 204 146]\n",
      " [132 241 282  88]\n",
      " [266 275 294 247]]\n",
      "arr3+5:\n",
      " [[ 15  59 209 151]\n",
      " [137 246 287  93]\n",
      " [271 280 299 252]]\n",
      "arr3*5:\n",
      " [[  50  270 1020  730]\n",
      " [ 660 1205 1410  440]\n",
      " [1330 1375 1470 1235]]\n"
     ]
    }
   ],
   "source": [
    "print(f\"arr3:\\n {arr3}\")\n",
    "print(f\"arr3+5:\\n {arr3+5}\")\n",
    "print(f\"arr3*5:\\n {arr3*5}\")"
   ]
  },
  {
   "cell_type": "code",
   "execution_count": 35,
   "id": "6e6e65d6",
   "metadata": {},
   "outputs": [
    {
     "name": "stdout",
     "output_type": "stream",
     "text": [
      "arr4:\n",
      " [1 2 3]\n",
      "arr5:\n",
      " [[4]\n",
      " [5]\n",
      " [6]]\n",
      "arr4+arr5:\n",
      " [[5 6 7]\n",
      " [6 7 8]\n",
      " [7 8 9]]\n"
     ]
    }
   ],
   "source": [
    "arr4 = np.array([1,2,3])\n",
    "arr5 = np.array([[4], [5], [6]])\n",
    "print(f\"arr4:\\n {arr4}\")\n",
    "print(f\"arr5:\\n {arr5}\")\n",
    "print(f\"arr4+arr5:\\n {arr4 + arr5}\")"
   ]
  },
  {
   "cell_type": "code",
   "execution_count": 36,
   "id": "75e7824a",
   "metadata": {},
   "outputs": [
    {
     "name": "stdout",
     "output_type": "stream",
     "text": [
      "arr6:\n",
      " [[1 5 3]\n",
      " [6 3 5]\n",
      " [1 4 8]]\n",
      "arr7:\n",
      " [[9 9 4]\n",
      " [2 9 1]\n",
      " [5 7 4]]\n",
      "arr1@arr2:\n",
      " [[ 34  75  21]\n",
      " [ 85 116  47]\n",
      " [ 57 101  40]]\n"
     ]
    }
   ],
   "source": [
    "arr6 = np.random.randint(1,10,(3, 3))\n",
    "arr7 = np.random.randint(1,10,(3, 3))\n",
    "print(f\"arr6:\\n {arr6}\")\n",
    "print(f\"arr7:\\n {arr7}\")\n",
    "print(f\"arr1@arr2:\\n {arr6 @ arr7}\")"
   ]
  },
  {
   "cell_type": "markdown",
   "id": "855d5787",
   "metadata": {},
   "source": [
    "## Numpy中的常用函数\n",
    "| 基本数学            | 统计运算            | 比较与逻辑运算        | 数组操作              |\n",
    "|---------------------|---------------------|-----------------------|-----------------------|\n",
    "| `np.sqrt(x)`        | `np.sum(x)`         | `np.greater(a, b)`    | `np.concatenate((a, b))` |\n",
    "| `np.exp(x)`         | `np.mean(x)`        | `np.less(a, b)`       | `np.split(x, indices)`  |\n",
    "| `np.log(x)`         | `np.median(x)`      | `np.equal(a, b)`      | `np.reshape(x, shape)`  |\n",
    "| `np.sin(x)`         | `np.std(x)`         | `np.logical_and(a, b)`| `np.copy(x)`           |\n",
    "| `np.abs(x)`         | `np.var(x)`         | `np.where(condition, x, y)` | `np.isnan(x)`      |\n",
    "| `np.power(a, b)`    | `np.min(x)` / `np.max(x)` | `np.unique(x)`   | `np.sort(x)`           |\n",
    "| `np.round(x, n)`    | `np.percentile(x, q)` | `np.in1d(a, b)`    | `x.sort()`             |\n",
    "|                     |                     |                       | `np.argsort(x)`        |\n",
    "|                     |                     |                       | `np.lexsort(keys)`     |"
   ]
  },
  {
   "cell_type": "code",
   "execution_count": 37,
   "id": "929db9a0",
   "metadata": {},
   "outputs": [
    {
     "name": "stdout",
     "output_type": "stream",
     "text": [
      "[1. 3. 4. 5. 5.]\n"
     ]
    }
   ],
   "source": [
    "print(np.round([1.2, 3.4, 4.5, 4.51, 5.41])) # “四舍五入”机制，小数部分大于 0.5 才进行“入”的操作，否则进行“舍”的操作"
   ]
  },
  {
   "cell_type": "code",
   "execution_count": 38,
   "id": "39e4064e",
   "metadata": {},
   "outputs": [
    {
     "name": "stdout",
     "output_type": "stream",
     "text": [
      "[2. 4. 5. 5. 6.]\n"
     ]
    }
   ],
   "source": [
    "print(np.ceil([1.2, 3.4, 4.5, 4.51, 5.41])) # ceil机制：向上取整"
   ]
  },
  {
   "cell_type": "code",
   "execution_count": 39,
   "id": "710a668d",
   "metadata": {},
   "outputs": [
    {
     "name": "stdout",
     "output_type": "stream",
     "text": [
      "[1. 3. 4. 4. 5.]\n"
     ]
    }
   ],
   "source": [
    "print(np.floor([1.2, 3.4, 4.5, 4.51, 5.41])) # floor：向下取整"
   ]
  },
  {
   "cell_type": "code",
   "execution_count": 40,
   "id": "24220ed3",
   "metadata": {},
   "outputs": [
    {
     "data": {
      "text/plain": [
       "array([False,  True, False])"
      ]
     },
     "execution_count": 40,
     "metadata": {},
     "output_type": "execute_result"
    }
   ],
   "source": [
    "np.isnan([1, np.nan, 3]) # isnan()：检测缺失值(缺失值默认为NaN)"
   ]
  },
  {
   "cell_type": "code",
   "execution_count": 41,
   "id": "30d81ae5",
   "metadata": {},
   "outputs": [
    {
     "name": "stdout",
     "output_type": "stream",
     "text": [
      "[[13  5 16]\n",
      " [15  7 19]\n",
      " [ 1  5  1]]\n",
      "int32\n",
      "2\n",
      "9\n"
     ]
    }
   ],
   "source": [
    "arr8 = np.random.randint(1, 20, (3, 3))\n",
    "print(arr8, arr8.dtype, arr8.ndim, arr8.size, sep=\"\\n\")"
   ]
  },
  {
   "cell_type": "code",
   "execution_count": 42,
   "id": "9d6dd4e4",
   "metadata": {},
   "outputs": [
    {
     "name": "stdout",
     "output_type": "stream",
     "text": [
      "求和arr8: 82\n"
     ]
    }
   ],
   "source": [
    "print(f\"求和arr8: {np.sum(arr8)}\") # 求和"
   ]
  },
  {
   "cell_type": "code",
   "execution_count": 43,
   "id": "fe277998",
   "metadata": {},
   "outputs": [
    {
     "name": "stdout",
     "output_type": "stream",
     "text": [
      "求平均arr8: 9.11111111111111\n"
     ]
    }
   ],
   "source": [
    "print(f\"求平均arr8: {np.mean(arr8)}\") # 求平均"
   ]
  },
  {
   "cell_type": "code",
   "execution_count": 44,
   "id": "8aab826d",
   "metadata": {},
   "outputs": [
    {
     "name": "stdout",
     "output_type": "stream",
     "text": [
      "中位数arr8: 7.0\n"
     ]
    }
   ],
   "source": [
    "print(f\"中位数arr8: {np.median(arr8)}\") # 求中位数：基数个数，排序之后中间的数；偶数个数，排序之后中间两数的平均"
   ]
  },
  {
   "cell_type": "markdown",
   "id": "f9d19350",
   "metadata": {},
   "source": [
    "## 方差和标准差的统计意义\n",
    "- 度量离散程度  \n",
    "  方差/标准差越大，说明数据分布越分散；反之，越集中。  \n",
    "- 与均值配合  \n",
    "  仅均值无法反映数据波动，需辅以标准差进行全面描述。  \n",
    "- 单位与解读  \n",
    "  标准差具有与原数据相同的单位，更直观。"
   ]
  },
  {
   "cell_type": "code",
   "execution_count": 45,
   "id": "b0125eb0",
   "metadata": {},
   "outputs": [
    {
     "name": "stdout",
     "output_type": "stream",
     "text": [
      "标准差arr8: 6.36735501417529\n",
      "方差arr8: 40.54320987654321\n"
     ]
    }
   ],
   "source": [
    "print(f\"标准差arr8: {np.std(arr8)}\") # 计算标准差\n",
    "print(f\"方差arr8: {np.var(arr8)}\") # 计算标准差"
   ]
  },
  {
   "cell_type": "code",
   "execution_count": 46,
   "id": "d282f0cb",
   "metadata": {},
   "outputs": [
    {
     "name": "stdout",
     "output_type": "stream",
     "text": [
      "arr8:\n",
      " [[13  5 16]\n",
      " [15  7 19]\n",
      " [ 1  5  1]]\n",
      "max arr8: 19, 最大值索引: 5\n",
      "min arr8: 1,最小值索引: 6\n"
     ]
    }
   ],
   "source": [
    "print(f\"arr8:\\n {arr8}\")\n",
    "print(f\"max arr8: {np.max(arr8)}, 最大值索引: {np.argmax(arr8)}\") # 获取一个数组的最大值，并获取它的索引\n",
    "print(f\"min arr8: {np.min(arr8)},最小值索引: {np.argmin(arr8)}\") # 获取一个数组的最小值，并获取它的索引"
   ]
  },
  {
   "cell_type": "code",
   "execution_count": 47,
   "id": "de1b6dc6",
   "metadata": {},
   "outputs": [
    {
     "name": "stdout",
     "output_type": "stream",
     "text": [
      "百分比取出数据：3.4000000000000004\n"
     ]
    }
   ],
   "source": [
    "print(f\"百分比取出数据：{np.percentile(arr8, 20)}\") # numpy.percentile(arr, percent)，percent是百分制，0~100"
   ]
  },
  {
   "cell_type": "code",
   "execution_count": 75,
   "id": "54dd7bf5",
   "metadata": {},
   "outputs": [
    {
     "name": "stdout",
     "output_type": "stream",
     "text": [
      "arr8:\n",
      " [[13  5 16]\n",
      " [15  7 19]\n",
      " [ 1  5  1]]\n",
      "[13 18 34 49 56 75 76 81 82]\n",
      "[      13       65     1040    15600   109200  2074800  2074800 10374000\n",
      " 10374000]\n"
     ]
    }
   ],
   "source": [
    "print(f\"arr8:\\n {arr8}\")\n",
    "print(np.cumsum(arr8)) # 累计和，自第一项起，前n项的和，返回对象为list\n",
    "print(np.cumprod(arr8)) # 累计乘积，自第一项起，前n项的乘积，返回对象为list"
   ]
  },
  {
   "cell_type": "code",
   "execution_count": 76,
   "id": "32491dc7",
   "metadata": {},
   "outputs": [
    {
     "name": "stdout",
     "output_type": "stream",
     "text": [
      "[[18  9 14]\n",
      " [11 18  5]\n",
      " [19  9 15]]\n"
     ]
    }
   ],
   "source": [
    "arr9 = np.random.randint(1,20, [3, 3])\n",
    "print(arr9)"
   ]
  },
  {
   "cell_type": "code",
   "execution_count": 77,
   "id": "4fc97e24",
   "metadata": {},
   "outputs": [
    {
     "name": "stdout",
     "output_type": "stream",
     "text": [
      "arr8: \n",
      "[[13  5 16]\n",
      " [15  7 19]\n",
      " [ 1  5  1]]\n",
      "arr9: \n",
      "[[18  9 14]\n",
      " [11 18  5]\n",
      " [19  9 15]]\n",
      "np.greater(arr8, 10): \n",
      "[[ True False  True]\n",
      " [ True False  True]\n",
      " [False False False]]\n",
      "np.greater(arr8, arr9): \n",
      "[[False False  True]\n",
      " [ True False  True]\n",
      " [False False False]]\n"
     ]
    }
   ],
   "source": [
    "print(f\"arr8: \\n{arr8}\")\n",
    "print(f\"arr9: \\n{arr9}\")\n",
    "# numpy.greater(arr, num)，该函数返回一个bool元素列表，其中True和False表示的是arr数组中的元素是否 **大于** num\n",
    "print(f\"np.greater(arr8, 10): \\n{np.greater(arr8, 10)}\")\n",
    "print(f\"np.greater(arr8, arr9): \\n{np.greater(arr8, arr9)}\") # 两个数组之间元素逐一比较"
   ]
  },
  {
   "cell_type": "code",
   "execution_count": 78,
   "id": "363f49eb",
   "metadata": {},
   "outputs": [
    {
     "name": "stdout",
     "output_type": "stream",
     "text": [
      "arr8: \n",
      "[[13  5 16]\n",
      " [15  7 19]\n",
      " [ 1  5  1]]\n",
      "arr9: \n",
      "[[18  9 14]\n",
      " [11 18  5]\n",
      " [19  9 15]]\n",
      "np.less(arr8, 10): \n",
      "[[False  True False]\n",
      " [False  True False]\n",
      " [ True  True  True]]\n",
      "np.less(arr8, arr9:\n",
      " [[ True  True False]\n",
      " [False  True False]\n",
      " [ True  True  True]]\n"
     ]
    }
   ],
   "source": [
    "print(f\"arr8: \\n{arr8}\")\n",
    "print(f\"arr9: \\n{arr9}\")\n",
    "# numpy.less(arr, num)，该函数返回一个bool元素列表，其中True和False表示的是arr数组中的元素是否 **小于** num\n",
    "print(f\"np.less(arr8, 10): \\n{np.less(arr8, 10)}\")\n",
    "print(f\"np.less(arr8, arr9:\\n {np.less(arr8, arr9)}\") # 两个数组之间元素逐一比较"
   ]
  },
  {
   "cell_type": "code",
   "execution_count": 52,
   "id": "380751fc",
   "metadata": {},
   "outputs": [
    {
     "name": "stdout",
     "output_type": "stream",
     "text": [
      "arr8: \n",
      "[[13  5 16]\n",
      " [15  7 19]\n",
      " [ 1  5  1]]\n",
      "arr9: \n",
      "[[ 5 19  2]\n",
      " [ 8  2  2]\n",
      " [ 6  9  2]]\n",
      "p.equal(arr8, 19): \n",
      "[[False False False]\n",
      " [False False  True]\n",
      " [False False False]]\n",
      "p.equal(arr8, arr9): \n",
      "[[False False False]\n",
      " [False False False]\n",
      " [False False False]]\n"
     ]
    }
   ],
   "source": [
    "print(f\"arr8: \\n{arr8}\")\n",
    "print(f\"arr9: \\n{arr9}\")\n",
    "print(f\"p.equal(arr8, 19): \\n{np.equal(arr8, 19)}\") # numpy.equal(arr, num)，该函数返回一个bool元素列表，其中True和False表示的是arr数组中的元素是否 **等于** num\n",
    "print(f\"p.equal(arr8, arr9): \\n{np.equal(arr8, arr9)}\") # 两个数组之间元素逐一比较"
   ]
  },
  {
   "cell_type": "code",
   "execution_count": 53,
   "id": "3d294a10",
   "metadata": {},
   "outputs": [
    {
     "name": "stdout",
     "output_type": "stream",
     "text": [
      "logical_and:  [False False  True]\n",
      "logical_or:  [ True  True  True]\n",
      "logical_not:  [False  True False]\n"
     ]
    }
   ],
   "source": [
    "print(\"logical_and: \", np.logical_and([1, 0, 1], [0, 1, 1])) # 两个数组之间元素逐一做与运算\n",
    "print(\"logical_or: \", np.logical_or([1, 0, 1], [0, 1, 1])) # 两个数组之间元素逐一做或运算\n",
    "print(\"logical_not: \", np.logical_not([1, 0, 1])) # 两个数组之间元素逐一做非运算"
   ]
  },
  {
   "cell_type": "code",
   "execution_count": 54,
   "id": "3bfe838f",
   "metadata": {},
   "outputs": [
    {
     "name": "stdout",
     "output_type": "stream",
     "text": [
      "False\n",
      "True\n"
     ]
    }
   ],
   "source": [
    "print(np.any([0,0,0,0])) # 检查数组中是否有元素为真\n",
    "print(np.any([0,0,0,1]))"
   ]
  },
  {
   "cell_type": "code",
   "execution_count": 55,
   "id": "8e98bd92",
   "metadata": {},
   "outputs": [
    {
     "name": "stdout",
     "output_type": "stream",
     "text": [
      "arr8: \n",
      "[[13  5 16]\n",
      " [15  7 19]\n",
      " [ 1  5  1]]\n",
      "arr8<10: \n",
      " [[-1  5 -1]\n",
      " [-1  7 -1]\n",
      " [ 1  5  1]]\n",
      "arr8<10: \n",
      " [[-1  1 -1]\n",
      " [-1  1 -1]\n",
      " [ 1  1  1]]\n",
      "[['8~15' '小于8' '大于15']\n",
      " ['8~15' '小于8' '大于15']\n",
      " ['小于8' '小于8' '小于8']]\n"
     ]
    }
   ],
   "source": [
    "print(f\"arr8: \\n{arr8}\")\n",
    "print(\"arr8<10: \\n\", np.where(arr8<10, arr8, -1)) # np.where(条件，满足条件的元素从哪里取， 不满足条件的元素从哪里取)\n",
    "print(\"arr8<10: \\n\", np.where(arr8<10, 1, -1)) # 例：在数组arr8中，满足arr8<3的元素返回1，不满足返回-1\n",
    "print(np.where(\n",
    "    arr8<8, \"小于8\",\n",
    "    np.where(arr8>15, \"大于15\", \"8~15\") # 条件可以嵌套使用，将目标元素进行多分类\n",
    "))"
   ]
  },
  {
   "cell_type": "code",
   "execution_count": 56,
   "id": "23191dff",
   "metadata": {},
   "outputs": [
    {
     "data": {
      "text/plain": [
       "array([['8~15', '小于8', '大于15'],\n",
       "       ['8~15', '小于8', '大于15'],\n",
       "       ['小于8', '小于8', '小于8']], dtype='<U4')"
      ]
     },
     "execution_count": 56,
     "metadata": {},
     "output_type": "execute_result"
    }
   ],
   "source": [
    " # np.select([条件数组]，[结论数组]，default用于处理意外情况)，注意：条件数组中的某些联合条件需要使用&|！等符号连接\n",
    "\n",
    "np.select([arr8 < 8, (8 <= arr8) & (arr8<= 15), arr8 > 15],[\"小于8\", \"8~15\", \"大于15\"], default=\"?\")"
   ]
  },
  {
   "cell_type": "code",
   "execution_count": 57,
   "id": "64feb06e",
   "metadata": {},
   "outputs": [
    {
     "name": "stdout",
     "output_type": "stream",
     "text": [
      "排序前：\n",
      "arr9: [ 9 25 68 88 80 49 11 95 53 99 54 67 99 15 35 25 16 61 59 17]\n",
      "排序后：\n",
      "arr9: [ 9 11 15 16 17 25 25 35 49 53 54 59 61 67 68 80 88 95 99 99]\n",
      "排序前：\n",
      "arr10: [10 94 87  3 28  5 32  2 14 84  5 92 60 68  8 50 48 66 62 15]\n",
      "排序后：\n",
      "arr10: [ 2  3  5  5  8 10 14 15 28 32 48 50 60 62 66 68 84 87 92 94]\n"
     ]
    }
   ],
   "source": [
    "np.random.seed(100)\n",
    "arr9 = np.random.randint(1, 100, 20)\n",
    "print(\"排序前：\")\n",
    "print(f\"arr9: {arr9}\")\n",
    "print(\"排序后：\")\n",
    "arr9.sort() # 原地排序，直接在原数组中改变值\n",
    "print(f\"arr9: {arr9}\")\n",
    "\n",
    "arr10 = np.random.randint(1, 100, 20)\n",
    "print(\"排序前：\")\n",
    "print(f\"arr10: {arr10}\")\n",
    "print(\"排序后：\")\n",
    "print(f\"arr10: {np.sort(arr10)}\") # 非原地排序，不改变原有数据值"
   ]
  },
  {
   "cell_type": "code",
   "execution_count": 61,
   "id": "464a7c5a",
   "metadata": {},
   "outputs": [
    {
     "name": "stdout",
     "output_type": "stream",
     "text": [
      "去重前： \n",
      " [9 9 4 8 8 1 5 3 6 3 3 3 2 1 9 5 1 7 3 5]\n",
      "去重后： \n",
      " [1 2 3 4 5 6 7 8 9]\n"
     ]
    }
   ],
   "source": [
    "np.random.seed(100)\n",
    "arr10 = np.random.randint(1, 10, 20)\n",
    "print(f\"去重前： \\n {arr10}\")\n",
    "newarr10 = np.unique(arr10) # 去重函数\n",
    "print(f\"去重后： \\n {newarr10}\")"
   ]
  },
  {
   "cell_type": "code",
   "execution_count": 64,
   "id": "32482810",
   "metadata": {},
   "outputs": [
    {
     "name": "stdout",
     "output_type": "stream",
     "text": [
      "arr11: [9 9 4 8 8]\n",
      "arr12: [1 5 3 6 3]\n",
      "拼接之后： \n",
      " [9 9 4 8 8 1 5 3 6 3]\n"
     ]
    }
   ],
   "source": [
    "np.random.seed(100)\n",
    "arr11 = np.random.randint(1, 10, 5)\n",
    "arr12 = np.random.randint(1, 10, 5)\n",
    "print(f\"arr11: {arr11}\")\n",
    "print(f\"arr12: {arr12}\")\n",
    "newarr = np.concat((arr11, arr12)) # 拼接函数：直接将数组进行拼接\n",
    "print(f\"拼接之后： \\n {newarr}\")"
   ]
  },
  {
   "cell_type": "code",
   "execution_count": 66,
   "id": "41763223",
   "metadata": {},
   "outputs": [
    {
     "name": "stdout",
     "output_type": "stream",
     "text": [
      "分割前：\n",
      "[16  2 15  8 17  3 10  3 15 18 17 16  8 14  7 13 19  1  3 11]\n",
      "[array([16], dtype=int32), array([ 2, 15,  8, 17], dtype=int32), array([ 3, 10,  3, 15, 18, 17, 16,  8, 14,  7], dtype=int32), array([13, 19,  1,  3, 11], dtype=int32)]\n"
     ]
    }
   ],
   "source": [
    "arr13 = np.random.randint(1, 20, 20)\n",
    "print(f\"分割前：\\n{arr13}\")\n",
    "\n",
    "print(np.split(arr13, [1, 5, 15])) # 分割函数：numpy.split(待分割数组， 需要分割的位置（是位置而不是索引）)"
   ]
  },
  {
   "cell_type": "code",
   "execution_count": 73,
   "id": "27d9909c",
   "metadata": {},
   "outputs": [
    {
     "name": "stdout",
     "output_type": "stream",
     "text": [
      "arr13.shape: (20,)\n",
      "[[16  2 15  8 17  3 10  3 15 18]\n",
      " [17 16  8 14  7 13 19  1  3 11]]\n"
     ]
    }
   ],
   "source": [
    "print(f\"arr13.shape: {arr13.shape}\")\n",
    "print(np.reshape(arr13, (2, 10))) # 数组形状调整函数，用于重塑数组的形状，重塑后的形状必须能恰好容纳原有的数据的个数"
   ]
  },
  {
   "cell_type": "code",
   "execution_count": null,
   "id": "eaac4f3f",
   "metadata": {},
   "outputs": [],
   "source": []
  }
 ],
 "metadata": {
  "kernelspec": {
   "display_name": "Data_analyse",
   "language": "python",
   "name": "python3"
  },
  "language_info": {
   "codemirror_mode": {
    "name": "ipython",
    "version": 3
   },
   "file_extension": ".py",
   "mimetype": "text/x-python",
   "name": "python",
   "nbconvert_exporter": "python",
   "pygments_lexer": "ipython3",
   "version": "3.10.0"
  }
 },
 "nbformat": 4,
 "nbformat_minor": 5
}
