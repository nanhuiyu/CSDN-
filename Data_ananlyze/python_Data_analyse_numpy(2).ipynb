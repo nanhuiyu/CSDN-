{
 "cells": [
  {
   "cell_type": "markdown",
   "id": "779d7d1d",
   "metadata": {},
   "source": [
    "## 本章为`numpy`的复习与练习章节"
   ]
  },
  {
   "cell_type": "markdown",
   "id": "1971ae00",
   "metadata": {},
   "source": [
    "# 题目 1：温度数据分析\n",
    "\n",
    "某城市一周的最高气温（℃）为 \\([28, 30, 29, 31, 32, 30, 29]\\)。\n",
    "\n",
    "- 计算平均气温、最高气温和最低气温。\n",
    "- 找出气温超过 \\(30℃\\) 的天数。"
   ]
  },
  {
   "cell_type": "code",
   "execution_count": 1,
   "id": "92538c0e",
   "metadata": {},
   "outputs": [
    {
     "name": "stdout",
     "output_type": "stream",
     "text": [
      "最高气温： 32\n",
      "最低气温： 28\n",
      "平均气温： 29.86\n",
      "气温超过30℃的天数： 2\n"
     ]
    }
   ],
   "source": [
    "import numpy as np\n",
    "\n",
    "list1 = np.array([28, 30, 29, 31, 32, 30, 29])\n",
    "\n",
    "max_c = np.max(list1)\n",
    "print(f\"最高气温： {max_c}\")\n",
    "\n",
    "min_c = np.min(list1)\n",
    "print(f\"最低气温： {min_c}\")\n",
    "\n",
    "mean_c = np.mean(list1)\n",
    "print(f\"平均气温： {np.round(mean_c, 2)}\")\n",
    "\n",
    "# 通过np.where()函数，设计条件判断出气温高于30℃和低于30℃的部分，并分别将其赋值为1和0，对最终的数组求和\n",
    "days = np.where(list1 > 30, 1, 0) \n",
    "print(f\"气温超过30℃的天数： {np.sum(days)}\")"
   ]
  },
  {
   "cell_type": "markdown",
   "id": "121c4084",
   "metadata": {},
   "source": [
    "# 题目 2：学生成绩统计\n",
    "\n",
    "某班级 5 名学生的数学成绩为 \\([85, 90, 78, 92, 88]\\)。\n",
    "\n",
    "- 计算成绩的平均分、中位数和标准差。"
   ]
  },
  {
   "cell_type": "code",
   "execution_count": 2,
   "id": "b7666278",
   "metadata": {},
   "outputs": [
    {
     "name": "stdout",
     "output_type": "stream",
     "text": [
      "平均成绩：86.6\n",
      "成绩中位数：88.0\n",
      "成绩标准差：4.883\n"
     ]
    }
   ],
   "source": [
    "import numpy as np\n",
    "\n",
    "list1 = np.array([85, 90, 78, 92, 88])\n",
    "\n",
    "mean_score = np.mean(list1)\n",
    "print(f\"平均成绩：{mean_score}\")\n",
    "\n",
    "mid_score = np.median(list1)\n",
    "print(f\"成绩中位数：{mid_score}\")\n",
    "\n",
    "std = np.std(list1)\n",
    "print(f\"成绩标准差：{np.round(std, 3)}\")"
   ]
  },
  {
   "cell_type": "markdown",
   "id": "6af27ce5",
   "metadata": {},
   "source": [
    "# 题目 3：矩阵运算\n",
    "\n",
    "给定矩阵 \\( A = [[1, 2], [3, 4]] \\) 和 \\( B = [[5, 6], [7, 8]] \\)。\n",
    "\n",
    "- 计算 \\( A + B \\) 和 \\( A * B \\)（逐元素乘法）。\n",
    "- 计算 \\( A \\) 和 \\( B \\) 的矩阵乘法（点积）。"
   ]
  },
  {
   "cell_type": "code",
   "execution_count": 3,
   "id": "9f683405",
   "metadata": {},
   "outputs": [
    {
     "name": "stdout",
     "output_type": "stream",
     "text": [
      "(A+B): \n",
      "[[ 6  8]\n",
      " [10 12]]\n",
      "(A*B): \n",
      "[[ 5 12]\n",
      " [21 32]]\n",
      "(A@B): \n",
      "[[19 22]\n",
      " [43 50]]\n"
     ]
    }
   ],
   "source": [
    "import numpy as np\n",
    "\n",
    "A = np.array([[1, 2], [3, 4]])\n",
    "B = np.array([[5, 6], [7, 8]])\n",
    "\n",
    "sum_AB = A + B\n",
    "print(f\"(A+B): \\n{sum_AB}\")\n",
    "\n",
    "acc_AB = A * B\n",
    "print(f\"(A*B): \\n{acc_AB}\")\n",
    "\n",
    "dot_AB = A @ B\n",
    "print(f\"(A@B): \\n{dot_AB}\")"
   ]
  },
  {
   "cell_type": "markdown",
   "id": "bdf2e859",
   "metadata": {},
   "source": [
    "# 题目 4：随机数据生成\n",
    "\n",
    "生成一个 (3, 4) 的随机整数数组，范围 [0, 10)。\n",
    "\n",
    "- 计算每列的最大值和每行的最小值。\n",
    "- 将数组中的所有奇数替换为 -1。"
   ]
  },
  {
   "cell_type": "code",
   "execution_count": 4,
   "id": "c0bc4eec",
   "metadata": {},
   "outputs": [
    {
     "name": "stdout",
     "output_type": "stream",
     "text": [
      "arr:\n",
      "[[9 0 4 7]\n",
      " [9 9 9 6]\n",
      " [8 1 7 3]]\n",
      "每一列的最大值： [9 9 9 7]\n",
      "每一行的最大值： [9 9 8]\n",
      "将数组中的所有奇数替换为-1之后：\n",
      "[[-1  0  4 -1]\n",
      " [-1 -1 -1  6]\n",
      " [ 8 -1 -1 -1]]\n"
     ]
    }
   ],
   "source": [
    "import numpy as np\n",
    "np.random.seed(200)\n",
    "\n",
    "arr = np.random.randint(0, 10, (3, 4))\n",
    "print(f\"arr:\\n{arr}\")\n",
    "\n",
    "line_max = np.max(arr, axis=0)\n",
    "print(f\"每一列的最大值： {line_max}\")\n",
    "\n",
    "row_max = np.max(arr, axis=1)\n",
    "print(f\"每一行的最大值： {row_max}\")\n",
    "\n",
    "new = np.where(arr%2!=0, -1, arr)\n",
    "print(f\"将数组中的所有奇数替换为-1之后：\\n{new}\")"
   ]
  },
  {
   "cell_type": "markdown",
   "id": "2aecb8a3",
   "metadata": {},
   "source": [
    "# 题目 5：数组变形\n",
    "\n",
    "创建一个 1 到 12 的一维数组，并转换为 \\( (3, 4) \\) 的二维数组。\n",
    "\n",
    "- 计算每行的和与每列的平均值。\n",
    "- 将数组还原，重新展开为一维数组。"
   ]
  },
  {
   "cell_type": "code",
   "execution_count": 5,
   "id": "5571296b",
   "metadata": {},
   "outputs": [
    {
     "name": "stdout",
     "output_type": "stream",
     "text": [
      "arr: [ 1  2  3  4  5  6  7  8  9 10 11 12]\n",
      "reshape之后的arr: \n",
      "[[ 1  2  3  4]\n",
      " [ 5  6  7  8]\n",
      " [ 9 10 11 12]]\n",
      "每列的均值： [5. 6. 7. 8.]\n",
      "每行的和： [10 26 42]\n",
      "展平的arr: [ 1  2  3  4  5  6  7  8  9 10 11 12]\n"
     ]
    }
   ],
   "source": [
    "import numpy as np\n",
    "\n",
    "arr = np.arange(1, 13)\n",
    "print(f\"arr: {arr}\")\n",
    "\n",
    "arr = np.reshape(arr, (3, 4))\n",
    "print(f\"reshape之后的arr: \\n{arr}\")\n",
    "\n",
    "aver_col = np.mean(arr, axis=0)\n",
    "print(f\"每列的均值： {aver_col}\")\n",
    "\n",
    "aver_row = np.sum(arr, axis=1)\n",
    "print(f\"每行的和： {aver_row}\")\n",
    "\n",
    "arr = np.reshape(arr, [12, ])\n",
    "print(f\"展平的arr: {arr}\")\n"
   ]
  },
  {
   "cell_type": "markdown",
   "id": "a02d3817",
   "metadata": {},
   "source": [
    "# 生成一个 (5, 5) 的随机数组，范围 [0, 20)\n",
    "\n",
    "- 找出数组中大于 10 的元素\n",
    "- 将所有大于 10 的元素替换为 0"
   ]
  },
  {
   "cell_type": "code",
   "execution_count": 6,
   "id": "a4319203",
   "metadata": {},
   "outputs": [
    {
     "name": "stdout",
     "output_type": "stream",
     "text": [
      "arr: \n",
      "[[ 9 16  4 10 12]\n",
      " [15 14 11  6 10]\n",
      " [ 1  7 19  9 15]\n",
      " [ 1 14  7 13 16]\n",
      " [19 10  6  3  0]]\n",
      "所有大于10的元素：\n",
      " [[ 0 16  0  0 12]\n",
      " [15 14 11  0  0]\n",
      " [ 0  0 19  0 15]\n",
      " [ 0 14  0 13 16]\n",
      " [19  0  0  0  0]]\n",
      "所有大于10的元素：\n",
      " [[False  True False False  True]\n",
      " [ True  True  True False False]\n",
      " [False False  True False  True]\n",
      " [False  True False  True  True]\n",
      " [ True False False False False]]\n",
      "将所有大于10的元素替换成0：\n",
      " [[ 9  0  4 10  0]\n",
      " [ 0  0  0  6 10]\n",
      " [ 1  7  0  9  0]\n",
      " [ 1  0  7  0  0]\n",
      " [ 0 10  6  3  0]]\n"
     ]
    }
   ],
   "source": [
    "import numpy as np\n",
    "np.random.seed(200)\n",
    "\n",
    "arr = np.random.randint(0,20, (5, 5))\n",
    "print(f\"arr: \\n{arr}\")\n",
    "\n",
    "print(\"所有大于10的元素：\\n\", np.where(arr>10, arr, 0))\n",
    "print(\"所有大于10的元素：\\n\", arr>10)\n",
    "\n",
    "print(\"将所有大于10的元素替换成0：\\n\", np.where(arr>10, 0, arr))"
   ]
  },
  {
   "cell_type": "markdown",
   "id": "fac0bbe2",
   "metadata": {},
   "source": [
    "# 题目 7：统计函数应用\n",
    "\n",
    "某公司 6 个月的销售额（万元）为 \\([120, 135, 110, 125, 130, 140]\\)。\n",
    "\n",
    "- 计算销售额的总和、均值和方差。\n",
    "- 找出销售额最高的月份和最低的月份。"
   ]
  },
  {
   "cell_type": "code",
   "execution_count": 7,
   "id": "0dbdffa1",
   "metadata": {},
   "outputs": [
    {
     "name": "stdout",
     "output_type": "stream",
     "text": [
      "总和是：760\n",
      "均值是：126.667\n",
      "方差是：97.222\n",
      "销售额最高的月是：6 月\n",
      "销售额最低的月是：3 月\n"
     ]
    }
   ],
   "source": [
    "import numpy as np\n",
    "\n",
    "arr = np.array([120, 135, 110, 125, 130, 140])\n",
    "\n",
    "sum_ = np.sum(arr)\n",
    "print(f\"总和是：{sum_}\")\n",
    "\n",
    "mean_ = np.mean(arr)\n",
    "print(f\"均值是：{np.round(mean_, 3)}\")\n",
    "\n",
    "var_ = np.var(arr)\n",
    "print(f\"方差是：{np.round(var_, 3)}\")\n",
    "\n",
    "max_mon = np.argmax(arr)\n",
    "print(f\"销售额最高的月是：{max_mon+1} 月\")\n",
    "\n",
    "min_mon = np.argmin(arr)\n",
    "print(f\"销售额最低的月是：{min_mon+1} 月\")"
   ]
  },
  {
   "cell_type": "markdown",
   "id": "f32e887d",
   "metadata": {},
   "source": [
    "# 题目 8：数组拼接\n",
    "\n",
    "给定 \\( A = [1, 2, 3] \\) 和 \\( B = [4, 5, 6] \\)。\n",
    "\n",
    "- 将 \\( A \\) 和 \\( B \\) 水平拼接为一个新数组\n",
    "- 将 \\( A \\) 和 \\( B \\) 垂直拼接为一个新数组"
   ]
  },
  {
   "cell_type": "code",
   "execution_count": 21,
   "id": "db97e1f0",
   "metadata": {},
   "outputs": [
    {
     "name": "stdout",
     "output_type": "stream",
     "text": [
      "水平拼接：\n",
      " [1 2 3 4 5 6]\n",
      "垂直拼接：\n",
      " [[1 2 3]\n",
      " [4 5 6]]\n"
     ]
    }
   ],
   "source": [
    "import numpy as np\n",
    "\n",
    "A = np.array([1, 2, 3])\n",
    "B = np.array([4, 5, 6])\n",
    "\n",
    "C = np.concatenate([A, B])\n",
    "print(\"水平拼接：\\n\", C)\n",
    "\n",
    "print(\"垂直拼接：\\n\", np.reshape(C, (2, 3))) # 直接对形状进行重构"
   ]
  },
  {
   "cell_type": "markdown",
   "id": "ff79d5e7",
   "metadata": {},
   "source": [
    "# 题目 9：唯一值与排序\n",
    "\n",
    "给定数组 \\([2, 1, 2, 3, 1, 4, 3]\\)。\n",
    "\n",
    "- 找出数组中的唯一值并排序\n",
    "- 计算每个唯一值出现的次数"
   ]
  },
  {
   "cell_type": "code",
   "execution_count": 26,
   "id": "d3d11084",
   "metadata": {},
   "outputs": [
    {
     "name": "stdout",
     "output_type": "stream",
     "text": [
      "唯一值：[1 2 3 4]\n",
      "每个唯一值出现的次数：[2 2 2 1]\n"
     ]
    }
   ],
   "source": [
    "import numpy as np\n",
    "\n",
    "arr = np.array([2, 1, 2, 3, 1, 4, 3])\n",
    "\n",
    "new_arr, counts = np.unique(arr, return_counts=True)\n",
    "\n",
    "print(f\"唯一值：{new_arr}\")\n",
    "print(f\"每个唯一值出现的次数：{counts}\") # 次数对应唯一值数组new_arr\n",
    "\n"
   ]
  },
  {
   "cell_type": "markdown",
   "id": "9c189031",
   "metadata": {},
   "source": [
    "# 题目 10：综合应用\n",
    "\n",
    "某商店 5 天的销售额（万元）和成本（万元）如下：\n",
    "\n",
    "销售额：\\[ 20, 25, 22, 30, 28 \\]\n",
    "\n",
    "成本：\\[ 15, 18, 16, 22, 20 \\]\n",
    "\n",
    "- 计算每天的利润（销售额 - 成本）\n",
    "- 计算利润的平均值和标准差\n",
    "- 找出利润最高的天数"
   ]
  },
  {
   "cell_type": "code",
   "execution_count": 39,
   "id": "3ca31970",
   "metadata": {},
   "outputs": [
    {
     "name": "stdout",
     "output_type": "stream",
     "text": [
      "每天的利润为：[5 7 6 8 8]\n",
      "利润的平均值：6.8；标准差：1.16619037896906\n",
      "利润最高的天数为 2 天\n",
      "利润最高的天数为 2 天\n"
     ]
    }
   ],
   "source": [
    "import numpy as np\n",
    "\n",
    "xiaoshou = np.array([20, 25, 22, 30, 28])\n",
    "chengben = np.array([15, 18, 16, 22, 20])\n",
    "\n",
    "lirun = xiaoshou - chengben\n",
    "print(f\"每天的利润为：{lirun}\")\n",
    "\n",
    "aver = np.mean(lirun)\n",
    "std = np.std(lirun)\n",
    "print(f\"利润的平均值：{aver}；标准差：{std}\")\n",
    "\n",
    "# 法一\n",
    "ind = np.argmax(lirun)\n",
    "days = np.where(\n",
    "    lirun==lirun[ind],\n",
    "    1,\n",
    "    0\n",
    ")\n",
    "print(f\"利润最高的天数为 {sum(days)} 天\")\n",
    "\n",
    "# 法二\n",
    "cnt = len(lirun[lirun==np.max(lirun)])\n",
    "print(f\"利润最高的天数为 {cnt} 天\")"
   ]
  },
  {
   "cell_type": "code",
   "execution_count": null,
   "id": "6b845aa8",
   "metadata": {},
   "outputs": [],
   "source": []
  }
 ],
 "metadata": {
  "kernelspec": {
   "display_name": "Data_analyse",
   "language": "python",
   "name": "python3"
  },
  "language_info": {
   "codemirror_mode": {
    "name": "ipython",
    "version": 3
   },
   "file_extension": ".py",
   "mimetype": "text/x-python",
   "name": "python",
   "nbconvert_exporter": "python",
   "pygments_lexer": "ipython3",
   "version": "3.10.18"
  }
 },
 "nbformat": 4,
 "nbformat_minor": 5
}
