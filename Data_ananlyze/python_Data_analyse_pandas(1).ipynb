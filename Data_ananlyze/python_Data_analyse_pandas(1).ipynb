{
 "cells": [
  {
   "cell_type": "code",
   "execution_count": 1,
   "id": "393aa43a",
   "metadata": {},
   "outputs": [],
   "source": [
    "import pandas as pd\n",
    "import random\n",
    "import numpy as np"
   ]
  },
  {
   "cell_type": "code",
   "execution_count": 2,
   "id": "72a749a7",
   "metadata": {},
   "outputs": [
    {
     "data": {
      "text/plain": [
       "0     5\n",
       "1     6\n",
       "2     7\n",
       "3     8\n",
       "4     9\n",
       "5    10\n",
       "dtype: int64"
      ]
     },
     "execution_count": 2,
     "metadata": {},
     "output_type": "execute_result"
    }
   ],
   "source": [
    "df = pd.Series(range(5, 11))\n",
    "df"
   ]
  },
  {
   "cell_type": "code",
   "execution_count": 3,
   "id": "0b62e1b1",
   "metadata": {},
   "outputs": [
    {
     "data": {
      "text/plain": [
       "a    2\n",
       "c    4\n",
       "e    6\n",
       "dtype: int64"
      ]
     },
     "execution_count": 3,
     "metadata": {},
     "output_type": "execute_result"
    }
   ],
   "source": [
    "df2 = pd.Series(range(2, 8, 2), index=[chr(i) for i in range(97, 102, 2)]) # 通过 index 参数为序列设置索引\n",
    "df2"
   ]
  },
  {
   "cell_type": "code",
   "execution_count": 4,
   "id": "c3ae411d",
   "metadata": {},
   "outputs": [
    {
     "data": {
      "text/plain": [
       "a    2\n",
       "c    4\n",
       "e    6\n",
       "Name: 示例, dtype: int64"
      ]
     },
     "execution_count": 4,
     "metadata": {},
     "output_type": "execute_result"
    }
   ],
   "source": [
    "df3 = pd.Series(range(2, 8, 2), index=[chr(i) for i in range(97, 102, 2)], name=\"示例\") # 通过  name  参数为整个序列命名\n",
    "df3"
   ]
  },
  {
   "cell_type": "code",
   "execution_count": 5,
   "id": "8ab5203e",
   "metadata": {},
   "outputs": [
    {
     "data": {
      "text/plain": [
       "A    1\n",
       "B    2\n",
       "C    3\n",
       "D    4\n",
       "Name: test1, dtype: int64"
      ]
     },
     "execution_count": 5,
     "metadata": {},
     "output_type": "execute_result"
    }
   ],
   "source": [
    "df4 = pd.Series({\"A\": 1,\"B\":2,\"C\":3,\"D\":4}, name=\"test1\")\n",
    "df4"
   ]
  },
  {
   "cell_type": "code",
   "execution_count": 6,
   "id": "0e5b15b0",
   "metadata": {},
   "outputs": [
    {
     "data": {
      "text/plain": [
       "A    1\n",
       "B    2\n",
       "C    3\n",
       "Name: test1, dtype: int64"
      ]
     },
     "execution_count": 6,
     "metadata": {},
     "output_type": "execute_result"
    }
   ],
   "source": [
    "df5 = pd.Series(df4, index=[\"A\", \"B\",\"C\"])\n",
    "df5"
   ]
  },
  {
   "cell_type": "markdown",
   "id": "61d1799f",
   "metadata": {},
   "source": [
    "## Series 的相关属性\n",
    "| 属性         | 说明                     | 属性     | 说明                         |\n",
    "|--------------|--------------------------|----------|------------------------------|\n",
    "| index        | Series的索引对象         | loc[]    | 显式索引，按标签索引或切片   |\n",
    "| values       | Series的值               | iloc[]   | 隐式索引，按位置索引或切片   |\n",
    "| dtype/dtypes | Series的元素类型         | at[]     | 使用标签访问单个元素         |\n",
    "| shape        | Series的形状             | iat[]    | 使用位置访问单个元素         |\n",
    "| ndim         | Series的维度             |          |                              |\n",
    "| size         | Series的元素个数         |          |                              |\n",
    "| name         | Series的名称             |          |                              |"
   ]
  },
  {
   "cell_type": "code",
   "execution_count": 7,
   "id": "1c1d1608",
   "metadata": {},
   "outputs": [
    {
     "name": "stdout",
     "output_type": "stream",
     "text": [
      "df4: \n",
      "A    1\n",
      "B    2\n",
      "C    3\n",
      "D    4\n",
      "Name: test1, dtype: int64\n",
      "--------------------\n",
      "df-index: Index(['A', 'B', 'C', 'D'], dtype='object')\n",
      "df-values: [1 2 3 4]\n",
      "df-dtype: int64\n",
      "df-shape: (4,)\n",
      "df-ndim: 1\n",
      "df-name: test1\n"
     ]
    }
   ],
   "source": [
    "print(f\"df4: \\n{df4}\")\n",
    "print(\"-\"*20)\n",
    "print(f\"df-index: {df4.index}\")\n",
    "print(f\"df-values: {df4.values}\")\n",
    "print(f\"df-dtype: {df4.dtype}\")\n",
    "print(f\"df-shape: {df4.shape}\")\n",
    "print(f\"df-ndim: {df4.ndim}\")\n",
    "print(f\"df-name: {df4.name}\")"
   ]
  },
  {
   "cell_type": "code",
   "execution_count": 8,
   "id": "c87cfb0c",
   "metadata": {},
   "outputs": [
    {
     "name": "stdout",
     "output_type": "stream",
     "text": [
      "df4.loc[\"A\"]:  1\n",
      "--------------------\n",
      "df4.loc[\"B\":\"C\"]:\n",
      " B    2\n",
      "C    3\n",
      "Name: test1, dtype: int64\n",
      "--------------------\n",
      "df4.iloc[2]: 3\n",
      "--------------------\n",
      "df4.iloc[1:3]: \n",
      "B    2\n",
      "C    3\n",
      "Name: test1, dtype: int64\n"
     ]
    }
   ],
   "source": [
    "print(\"df4.loc[\\\"A\\\"]: \", df4.loc[\"A\"]) # 通过 loc 函数根据索引直接找到元素值\n",
    "print(\"-\"*20)\n",
    "print(\"df4.loc[\\\"B\\\":\\\"C\\\"]:\\n\", df4.loc[\"B\":\"C\"]) # 通过 loc 函数切片\n",
    "print(\"-\"*20)\n",
    "print(f\"df4.iloc[2]: {df4.iloc[2]}\") # 通过 iloc 函数 隐式索引找到元素值\n",
    "print(\"-\"*20)\n",
    "print(f\"df4.iloc[1:3]: \\n{df4.iloc[1:3]}\") # 通过 iloc 函数进行切片"
   ]
  },
  {
   "cell_type": "code",
   "execution_count": 9,
   "id": "30f22fc0",
   "metadata": {},
   "outputs": [
    {
     "name": "stdout",
     "output_type": "stream",
     "text": [
      "df4.at[\"A\"]:  1\n",
      "df4.iat[0]:  1\n"
     ]
    }
   ],
   "source": [
    "print(\"df4.at[\\\"A\\\"]: \", df4.at[\"A\"]) # 通过  at  函数使用标签访问元素\n",
    "print(\"df4.iat[0]: \", df4.iat[0]) # 通过  iat  函数隐式访问元素"
   ]
  },
  {
   "cell_type": "code",
   "execution_count": 10,
   "id": "97e1dfd1",
   "metadata": {},
   "outputs": [
    {
     "name": "stdout",
     "output_type": "stream",
     "text": [
      "df5: \n",
      " a    1\n",
      "b    2\n",
      "c    3\n",
      "d    4\n",
      "e    5\n",
      "f    6\n",
      "g    7\n",
      "h    8\n",
      "i    9\n",
      "dtype: int64\n",
      "--------------------\n",
      "df5.head(): \n",
      " a    1\n",
      "b    2\n",
      "c    3\n",
      "d    4\n",
      "e    5\n",
      "dtype: int64\n",
      "--------------------\n",
      "df5.head(8): \n",
      " a    1\n",
      "b    2\n",
      "c    3\n",
      "dtype: int64\n"
     ]
    }
   ],
   "source": [
    "df5 = pd.Series(range(1, 10), index=[chr(i) for i in range(97, 106)])\n",
    "print(\"df5: \\n\", df5)\n",
    "print(\"-\"*20)\n",
    "print(\"df5.head(): \\n\", df5.head())\n",
    "print(\"-\"*20)\n",
    "print(\"df5.head(8): \\n\", df5.head(3))\n"
   ]
  },
  {
   "cell_type": "code",
   "execution_count": 11,
   "id": "0fdb6b05",
   "metadata": {},
   "outputs": [
    {
     "name": "stdout",
     "output_type": "stream",
     "text": [
      "df5.tail(): \n",
      " e    5\n",
      "f    6\n",
      "g    7\n",
      "h    8\n",
      "i    9\n",
      "dtype: int64\n",
      "--------------------\n",
      "df5.tail(3): \n",
      " g    7\n",
      "h    8\n",
      "i    9\n",
      "dtype: int64\n"
     ]
    }
   ],
   "source": [
    "print(\"df5.tail(): \\n\", df5.tail())\n",
    "print(\"-\"*20)\n",
    "print(\"df5.tail(3): \\n\", df5.tail(3))"
   ]
  },
  {
   "cell_type": "markdown",
   "id": "e56bc6ee",
   "metadata": {},
   "source": [
    "## Series的常用方法\n",
    "| 方法        | 说明                                 | 方法          | 说明                                         |\n",
    "|-------------|--------------------------------------|---------------|----------------------------------------------|\n",
    "| head()      | 查看前 n 行数据，默认 5 行           | max()         | 最大值                                       |\n",
    "| tail()      | 查看后 n 行数据，默认 5 行           | var()         | 方差                                         |\n",
    "| isin()      | 判断元素是否包含在参数集合中          | std()         | 标准差                                       |\n",
    "| isna()      | 判断是否为缺失值（如 NaN 或 None）    | median()      | 中位数                                       |\n",
    "| sum()       | 求和，自动忽略缺失值                  | mode()        | 众数（可返回多个）                           |\n",
    "| mean()      | 平均值                               | quantile(q)   | 分位数，q 取 0~1 之间                       |\n",
    "| min()       | 最小值                               | describe()    | 常见统计信息（count、mean、std、min、25%、50%、75%、max） |\n",
    "| value_counts()      | 每个唯一值的出现次数      | sort_values()   | 按值排序             |\n",
    "| count()             | 非缺失值数量             | replace()       | 替换值               |\n",
    "| nunique()           | 唯一值个数（去重）        | keys()          | 返回 Series 的索引对象 |\n",
    "| unique()            | 获取去重后的值数组        | sort_index()        | 按索引排序               | \n",
    "| drop_duplicates()   | 去除重复项               | sample()            | 随机抽样                 |"
   ]
  },
  {
   "cell_type": "code",
   "execution_count": 12,
   "id": "869904a7",
   "metadata": {},
   "outputs": [
    {
     "name": "stdout",
     "output_type": "stream",
     "text": [
      "a    False\n",
      "b     True\n",
      "c    False\n",
      "d     True\n",
      "e    False\n",
      "f     True\n",
      "g    False\n",
      "h    False\n",
      "i    False\n",
      "dtype: bool\n"
     ]
    }
   ],
   "source": [
    "print(df5.isin([6,4,2])) # isin函数  用于判断一个  序列  是否在目标Series中"
   ]
  },
  {
   "cell_type": "code",
   "execution_count": 13,
   "id": "5467dafd",
   "metadata": {},
   "outputs": [
    {
     "name": "stdout",
     "output_type": "stream",
     "text": [
      "df6: \n",
      " 0    3\n",
      "1    2\n",
      "2    1\n",
      "3    3\n",
      "4    2\n",
      "5    1\n",
      "dtype: int32\n",
      "df6中的众数：  0    1\n",
      "1    2\n",
      "2    3\n",
      "dtype: int32\n"
     ]
    }
   ],
   "source": [
    "df6 = pd.Series(np.random.randint(1, 4, 6))\n",
    "print(\"df6: \\n\", df6)\n",
    "print(\"df6中的众数： \", df6.mode())"
   ]
  },
  {
   "cell_type": "code",
   "execution_count": 14,
   "id": "a84b1d35",
   "metadata": {},
   "outputs": [
    {
     "name": "stdout",
     "output_type": "stream",
     "text": [
      "0    3.0\n",
      "1    2.0\n",
      "2    1.0\n",
      "3    3.0\n",
      "4    2.0\n",
      "5    1.0\n",
      "6    NaN\n",
      "7    NaN\n",
      "dtype: float64\n"
     ]
    }
   ],
   "source": [
    "df6[6] = np.nan\n",
    "df6[7] = np.nan\n",
    "\n",
    "print(df6)"
   ]
  },
  {
   "cell_type": "code",
   "execution_count": 15,
   "id": "d49d48aa",
   "metadata": {},
   "outputs": [
    {
     "name": "stdout",
     "output_type": "stream",
     "text": [
      "6\n"
     ]
    }
   ],
   "source": [
    "print(df6.count()) # 计算非缺失值(nan)的数量"
   ]
  },
  {
   "cell_type": "code",
   "execution_count": 16,
   "id": "d0f5c38e",
   "metadata": {},
   "outputs": [
    {
     "name": "stdout",
     "output_type": "stream",
     "text": [
      "3.0    2\n",
      "2.0    2\n",
      "1.0    2\n",
      "Name: count, dtype: int64\n"
     ]
    }
   ],
   "source": [
    "print(df6.value_counts()) # 每个值的出现次数，按出现次数从多到少排序"
   ]
  },
  {
   "cell_type": "code",
   "execution_count": 17,
   "id": "addad94a",
   "metadata": {},
   "outputs": [
    {
     "name": "stdout",
     "output_type": "stream",
     "text": [
      "2    1.0\n",
      "5    1.0\n",
      "4    2.0\n",
      "1    2.0\n",
      "3    3.0\n",
      "0    3.0\n",
      "6    NaN\n",
      "7    NaN\n",
      "dtype: float64\n"
     ]
    }
   ],
   "source": [
    "print(df6.sort_values()) # 根据值的大小排序"
   ]
  },
  {
   "cell_type": "code",
   "execution_count": 18,
   "id": "58c4c16e",
   "metadata": {},
   "outputs": [
    {
     "name": "stdout",
     "output_type": "stream",
     "text": [
      "2    1.0\n",
      "5    1.0\n",
      "4    2.0\n",
      "1    2.0\n",
      "3    3.0\n",
      "0    3.0\n",
      "6    NaN\n",
      "7    NaN\n",
      "dtype: float64\n"
     ]
    }
   ],
   "source": [
    "print(df6.sort_values()) # 根据值的大小排序"
   ]
  },
  {
   "cell_type": "code",
   "execution_count": 19,
   "id": "ed16f6a4",
   "metadata": {},
   "outputs": [
    {
     "data": {
      "text/plain": [
       "count    6.000000\n",
       "mean     2.000000\n",
       "std      0.894427\n",
       "min      1.000000\n",
       "25%      1.250000\n",
       "50%      2.000000\n",
       "75%      2.750000\n",
       "max      3.000000\n",
       "dtype: float64"
      ]
     },
     "execution_count": 19,
     "metadata": {},
     "output_type": "execute_result"
    }
   ],
   "source": [
    "df6.describe() # 给出Series的相关描述信息，不统计缺失值(Nan)"
   ]
  },
  {
   "cell_type": "code",
   "execution_count": 20,
   "id": "47ad559d",
   "metadata": {},
   "outputs": [
    {
     "name": "stdout",
     "output_type": "stream",
     "text": [
      "3\n",
      "[ 3.  2.  1. nan]\n"
     ]
    }
   ],
   "source": [
    "print(df6.nunique()) # 返回不重复值的个数\n",
    "print(df6.unique()) # 返回不重复值的序列，从小到大排序"
   ]
  },
  {
   "cell_type": "code",
   "execution_count": 21,
   "id": "596fbec7",
   "metadata": {},
   "outputs": [
    {
     "name": "stdout",
     "output_type": "stream",
     "text": [
      "0    3.0\n",
      "1    2.0\n",
      "2    1.0\n",
      "6    NaN\n",
      "dtype: float64\n"
     ]
    }
   ],
   "source": [
    "print(df6.drop_duplicates()) # 去除重复值，但是保留数据原有的属性(Series)，与  unique  不同"
   ]
  },
  {
   "cell_type": "code",
   "execution_count": 22,
   "id": "188ea781",
   "metadata": {},
   "outputs": [
    {
     "name": "stdout",
     "output_type": "stream",
     "text": [
      "RangeIndex(start=0, stop=8, step=1)\n",
      "RangeIndex(start=0, stop=8, step=1)\n",
      "RangeIndex(start=0, stop=6, step=1)\n",
      "RangeIndex(start=0, stop=6, step=1)\n"
     ]
    }
   ],
   "source": [
    "print(df6.keys()) # 通过 key() 方法获取索引\n",
    "print(df6.index) # 通过 index 属性获取索引\n",
    "print(df.keys())\n",
    "print(df.index)"
   ]
  },
  {
   "cell_type": "code",
   "execution_count": 23,
   "id": "a89afb32",
   "metadata": {},
   "outputs": [
    {
     "name": "stdout",
     "output_type": "stream",
     "text": [
      "0    False\n",
      "1    False\n",
      "2    False\n",
      "3    False\n",
      "4    False\n",
      "5    False\n",
      "6     True\n",
      "7     True\n",
      "dtype: bool\n"
     ]
    }
   ],
   "source": [
    "print(df6.isna()) # 通过  isna  函数找出序列中的缺失值"
   ]
  },
  {
   "cell_type": "code",
   "execution_count": 24,
   "id": "5a24f594",
   "metadata": {},
   "outputs": [
    {
     "name": "stdout",
     "output_type": "stream",
     "text": [
      "1    2.0\n",
      "dtype: float64\n"
     ]
    }
   ],
   "source": [
    "print(df6.sample()) # 通过 sample  函数对序列进行随机抽样"
   ]
  },
  {
   "cell_type": "code",
   "execution_count": null,
   "id": "1f5e3ada",
   "metadata": {},
   "outputs": [],
   "source": []
  }
 ],
 "metadata": {
  "kernelspec": {
   "display_name": "Data_analyse",
   "language": "python",
   "name": "python3"
  },
  "language_info": {
   "codemirror_mode": {
    "name": "ipython",
    "version": 3
   },
   "file_extension": ".py",
   "mimetype": "text/x-python",
   "name": "python",
   "nbconvert_exporter": "python",
   "pygments_lexer": "ipython3",
   "version": "3.10.0"
  }
 },
 "nbformat": 4,
 "nbformat_minor": 5
}
