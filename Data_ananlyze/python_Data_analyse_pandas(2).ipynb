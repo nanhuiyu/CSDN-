{
 "cells": [
  {
   "cell_type": "markdown",
   "id": "d1d14f34",
   "metadata": {},
   "source": [
    "## 学生成绩统计\n",
    "\n",
    "创建一个包含10名学生数学成绩的Series，成绩范围在50-100之间，并计算平均分、最高分、最低分，找出高于平均分的学生人数<br>\n",
    "其中：随机种子设置为200，学生姓名以：“学生” + 1,2,3,....表示"
   ]
  },
  {
   "cell_type": "code",
   "execution_count": 1,
   "id": "e623b7a4",
   "metadata": {},
   "outputs": [],
   "source": [
    "import pandas as pd\n",
    "import numpy as np"
   ]
  },
  {
   "cell_type": "code",
   "execution_count": 12,
   "id": "d49d7a47",
   "metadata": {},
   "outputs": [
    {
     "name": "stdout",
     "output_type": "stream",
     "text": [
      "学生：\n",
      " 学生1     76\n",
      "学生2     91\n",
      "学生3     66\n",
      "学生4     54\n",
      "学生5     92\n",
      "学生6     62\n",
      "学生7     65\n",
      "学生8     75\n",
      "学生9     64\n",
      "学生10    77\n",
      "dtype: int32\n",
      "平均分：  72.2\n",
      "最高分：  92\n",
      "最低分：  54\n",
      "高于平均分的人数：  5\n",
      "高于平均分的人数：  5\n"
     ]
    }
   ],
   "source": [
    "np.random.seed(200)\n",
    "stu = pd.Series(\n",
    "    np.random.randint(50, 101, 10), \n",
    "    index=[f\"学生{i}\" for i in range (1, 11)]\n",
    ")\n",
    "mean_ = stu.mean()\n",
    "print(\"学生：\\n\", stu)\n",
    "print(\"平均分： \", mean_)\n",
    "print(\"最高分： \", stu.max())\n",
    "print(\"最低分： \", stu.min())\n",
    "\n",
    "cnt = 0\n",
    "for i in stu:\n",
    "    if i > mean_: cnt +=1\n",
    "print(\"高于平均分的人数： \", cnt)\n",
    "\n",
    "# 利用 bool 索引可以直接定位获取序列中的对应bool值为True的元素\n",
    "print(\"高于平均分的人数： \", len(stu[stu>mean_])) "
   ]
  },
  {
   "cell_type": "markdown",
   "id": "1bc08a95",
   "metadata": {},
   "source": [
    "## 温度数据分析\n",
    "给定某城市一周每天的最高温度Series，完成以下任务：\n",
    "- 1， 找出温度超过30℃的天数\n",
    "- 2， 计算平均气温\n",
    "- 3， 将温度从高到低排序\n",
    "- 4， 找出温度变化最大的两天\n",
    "\n",
    "其中：temperatures = pd.Series([28, 31, 29, 32, 30, 27, 33], \n",
    "                        index=['周一', '周二', '周三', '周四', '周五', '周六', '周日'])"
   ]
  },
  {
   "cell_type": "code",
   "execution_count": 26,
   "id": "3a3b7d0b",
   "metadata": {},
   "outputs": [
    {
     "name": "stdout",
     "output_type": "stream",
     "text": [
      "温度超过30℃的天数：  3\n",
      "平均气温：  30.0\n",
      "气温从高到低排序: \n",
      "周日    33\n",
      "周四    32\n",
      "周二    31\n",
      "周五    30\n",
      "周三    29\n",
      "周一    28\n",
      "周六    27\n",
      "dtype: int64\n",
      "气温变化最大的两天：  ['周日', '周二']\n"
     ]
    }
   ],
   "source": [
    "import pandas as pd\n",
    "import numpy as np\n",
    "\n",
    "temperatures = pd.Series(\n",
    "    [28, 31, 29, 32, 30, 27, 33], \n",
    "    index=['周一', '周二', '周三', '周四', '周五', '周六', '周日']\n",
    ")\n",
    "\n",
    "days = (temperatures > 30).sum()\n",
    "print(\"温度超过30℃的天数： \", days)\n",
    "\n",
    "print(\"平均气温： \", temperatures.mean())\n",
    "\n",
    "print(\"气温从高到低排序: \")\n",
    "print(temperatures.sort_values(ascending=False)) # 默认从低到高排序，指定ascending=False则从高到低排序\n",
    "\n",
    "# 使用 diff 函数计算 Series 中相邻两值之差\n",
    "diff = temperatures.diff().abs().sort_values(ascending=False).keys()\n",
    "print(\"气温变化最大的两天： \", diff[:2].tolist()) # tolist()函数将序列转换成列表形式\n"
   ]
  },
  {
   "cell_type": "markdown",
   "id": "479da8cf",
   "metadata": {},
   "source": [
    "## 股票价格分析\n",
    "\n",
    "给定某股票连续10个交易日的收盘价Series：\n",
    "\n",
    "- 计算每日收益率（当日收盘价/前日收盘价 - 1）\n",
    "- 找出收益率最高和最低的日期\n",
    "- 计算波动率（收益率的标准差）\n",
    "\n",
    "股票相关的Series信息如下：\n",
    "prices = pd.Series([102.3, 103.5, 105.1, 104.8, 106.2, 107.0, 106.5, 108.1, 109.3, 110.2], index=pd.date_range('2023-01-01', periods=10))"
   ]
  },
  {
   "cell_type": "code",
   "execution_count": 41,
   "id": "271331bc",
   "metadata": {},
   "outputs": [
    {
     "name": "stdout",
     "output_type": "stream",
     "text": [
      "每日收益： \n",
      " 2023-01-01         NaN\n",
      "2023-01-02    0.011730\n",
      "2023-01-03    0.015459\n",
      "2023-01-04   -0.002854\n",
      "2023-01-05    0.013359\n",
      "2023-01-06    0.007533\n",
      "2023-01-07   -0.004673\n",
      "2023-01-08    0.015023\n",
      "2023-01-09    0.011101\n",
      "2023-01-10    0.008234\n",
      "Freq: D, dtype: float64\n",
      "收益最高的日期： \n",
      " 2023-01-03 00:00:00\n",
      "收益最低的日期： \n",
      " 2023-01-07 00:00:00\n",
      "收益波动率：  0.007373623845361105\n"
     ]
    }
   ],
   "source": [
    "import pandas as pd\n",
    "import numpy as np\n",
    "\n",
    "prices = pd.Series(\n",
    "    [102.3, 103.5, 105.1, 104.8, 106.2, 107.0, 106.5, 108.1, 109.3, 110.2], \n",
    "    index=pd.date_range('2023-01-01', periods=10)\n",
    ")\n",
    "score = prices.pct_change() # pct_change  函数专门用于计算每日收益\n",
    "print(\"每日收益： \\n\", score)\n",
    "print(\"收益最高的日期： \\n\", score.idxmax())\n",
    "print(\"收益最低的日期： \\n\", score.idxmin())\n",
    "print(\"收益波动率： \", score.std())\n"
   ]
  },
  {
   "cell_type": "markdown",
   "id": "273e6154",
   "metadata": {},
   "source": [
    "# 销售数据分析任务\n",
    "\n",
    "某产品过去12个月的销售量Series：\n",
    "\n",
    "sales = pd.Series([120, 135, 145, 160, 155, 170, 180, 175, 190, 200, 210, 220],\n",
    "                 index=pd.date_range('2022-01-01', periods=12, freq='M'))\n",
    "                 \n",
    "请完成以下任务：\n",
    "- 计算季度平均销量（每3个月为一个季度）\n",
    "- 找出销量最高的月份\n",
    "- 计算月环比增长率\n",
    "- 找出连续增长超过2个月的月份"
   ]
  },
  {
   "cell_type": "code",
   "execution_count": 24,
   "id": "97a53da9",
   "metadata": {},
   "outputs": [
    {
     "name": "stdout",
     "output_type": "stream",
     "text": [
      "DatetimeIndex(['2022-01-01', '2022-02-01', '2022-03-01', '2022-04-01',\n",
      "               '2022-05-01', '2022-06-01', '2022-07-01', '2022-08-01',\n",
      "               '2022-09-01', '2022-10-01', '2022-11-01', '2022-12-01'],\n",
      "              dtype='datetime64[ns]', freq='MS')\n",
      "季度平均销量： \n",
      "2022-01-01    133.333\n",
      "2022-04-01    161.667\n",
      "2022-07-01    181.667\n",
      "2022-10-01    210.000\n",
      "Freq: QS-JAN, dtype: float64\n",
      "销量最高的月份：\n",
      "2022-12-01 00:00:00\n",
      "月环比增长率：\n",
      "2022-01-01         NaN\n",
      "2022-02-01    0.125000\n",
      "2022-03-01    0.074074\n",
      "2022-04-01    0.103448\n",
      "2022-05-01   -0.031250\n",
      "2022-06-01    0.096774\n",
      "2022-07-01    0.058824\n",
      "2022-08-01   -0.027778\n",
      "2022-09-01    0.085714\n",
      "2022-10-01    0.052632\n",
      "2022-11-01    0.050000\n",
      "2022-12-01    0.047619\n",
      "Freq: MS, dtype: float64\n",
      "连续增长超过两个月的月份：\n"
     ]
    },
    {
     "data": {
      "text/plain": [
       "DatetimeIndex(['2022-04-01', '2022-11-01', '2022-12-01'], dtype='datetime64[ns]', freq=None)"
      ]
     },
     "execution_count": 24,
     "metadata": {},
     "output_type": "execute_result"
    }
   ],
   "source": [
    "import numpy as np\n",
    "import pandas as pd\n",
    "\n",
    "sales = pd.Series(\n",
    "    [120, 135, 145, 160, 155, 170, 180, 175, 190, 200, 210, 220],\n",
    "    index=pd.date_range('2022-01-01', periods=12, freq='MS') # freq-> frequen：频率，M表示以月为平频率，Q表示季度为频率，S表示start，E表示end\n",
    ")\n",
    "\n",
    "print(sales.keys())\n",
    "\n",
    "# 使用resample()函数可以对序列进行重采样\n",
    "aver_Q = sales.resample(\"QS\")\n",
    "print(\"季度平均销量： \")\n",
    "print(round(aver_Q.mean(), 3))\n",
    "\n",
    "print(\"销量最高的月份：\")\n",
    "print(sales.idxmax())\n",
    "\n",
    "print(\"月环比增长率：\")\n",
    "roll = sales.pct_change()\n",
    "print(roll)\n",
    "\n",
    "print(\"连续增长超过两个月的月份：\")\n",
    "roll = roll > 0\n",
    "roll[roll.rolling(3).sum()==3].index # rolling(num) 函数模拟实现滑动窗口，以 num为窗口大小滚动"
   ]
  },
  {
   "cell_type": "markdown",
   "id": "0af5ed01",
   "metadata": {},
   "source": [
    "# 商店销售数据分析任务\n",
    "\n",
    "某商店每小时销售额Series：\n",
    "```python\n",
    "np.random.seed(42)\n",
    "\n",
    "hourly_sales = pd.Series(np.random.randint(0, 100, 24),\n",
    "                        index=pd.date_range('2025-01-01', periods=24, freq='H'))\n",
    "```\n",
    "\n",
    "请完成以下内容：  \n",
    "- 按天重新采样计算每日总销售额\n",
    "- 计算每天营业时间（8:00-22:00）和非营业时间的销售额比例\n",
    "- 找出销售额最高的3个小时"
   ]
  },
  {
   "cell_type": "code",
   "execution_count": 41,
   "id": "d92155f6",
   "metadata": {},
   "outputs": [
    {
     "name": "stdout",
     "output_type": "stream",
     "text": [
      "按天重新采样计算每日总销售额\n",
      "2025-01-01    1205\n",
      "Freq: D, dtype: int32\n",
      "营业时间和非营业时间销售额之比：\n",
      "1.429\n",
      "DatetimeIndex(['2025-01-01 11:00:00', '2025-01-01 01:00:00',\n",
      "               '2025-01-01 10:00:00'],\n",
      "              dtype='datetime64[ns]', freq=None)\n"
     ]
    }
   ],
   "source": [
    "import numpy as np\n",
    "import pandas as pd\n",
    "\n",
    "np.random.seed(42)\n",
    "\n",
    "hourly_sales = pd.Series(\n",
    "    np.random.randint(0, 100, 24),\n",
    "    index=pd.date_range('2025-01-01', periods=24, freq='h')\n",
    ")\n",
    "# print(hourly_sales)\n",
    "\n",
    "print(\"按天重新采样计算每日总销售额\")\n",
    "print(hourly_sales.resample(\"D\").sum())\n",
    "\n",
    "diff = hourly_sales.between_time(\"8:00\", \"22:00\").sum() # between_time函数能够筛选出一段时间内的序列\n",
    "other = hourly_sales.sum() - diff\n",
    "print(\"营业时间和非营业时间销售额之比：\")\n",
    "print(round(diff/other, 3))\n",
    "\n",
    "roll = hourly_sales.nlargest(3)\n",
    "print(roll.keys())"
   ]
  },
  {
   "cell_type": "code",
   "execution_count": null,
   "id": "d26a5942",
   "metadata": {},
   "outputs": [],
   "source": []
  }
 ],
 "metadata": {
  "kernelspec": {
   "display_name": "Data_analyse",
   "language": "python",
   "name": "python3"
  },
  "language_info": {
   "codemirror_mode": {
    "name": "ipython",
    "version": 3
   },
   "file_extension": ".py",
   "mimetype": "text/x-python",
   "name": "python",
   "nbconvert_exporter": "python",
   "pygments_lexer": "ipython3",
   "version": "3.10.0"
  }
 },
 "nbformat": 4,
 "nbformat_minor": 5
}
