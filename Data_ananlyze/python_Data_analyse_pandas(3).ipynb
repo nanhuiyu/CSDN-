{
 "cells": [
  {
   "cell_type": "markdown",
   "id": "c41e262e",
   "metadata": {},
   "source": [
    "<img src=\"https://i-blog.csdnimg.cn/direct/6d370d6db30046c1a46f5e87ca7affda.png\">"
   ]
  },
  {
   "cell_type": "code",
   "execution_count": 2,
   "id": "25bf61b0",
   "metadata": {},
   "outputs": [
    {
     "name": "stdout",
     "output_type": "stream",
     "text": [
      "   奇数列  偶数列\n",
      "0    1    2\n",
      "1    3    4\n",
      "2    5    6\n",
      "3    7    8\n",
      "4    9   10\n",
      "<class 'pandas.core.frame.DataFrame'>\n",
      "0    1\n",
      "1    3\n",
      "2    5\n",
      "3    7\n",
      "4    9\n",
      "Name: 奇数列, dtype: int64\n"
     ]
    }
   ],
   "source": [
    "import pandas as pd\n",
    "import numpy as np\n",
    "\n",
    "s1 = pd.Series(range(1, 11, 2))\n",
    "s2 = pd.Series(range(2, 12, 2))\n",
    "\n",
    "df = pd.DataFrame({\"奇数列\": s1, \"偶数列\": s2})\n",
    "\n",
    "print(df)\n",
    "print(type(df))\n",
    "print(df[\"奇数列\"]) # 索引DataFrame中的某一列"
   ]
  },
  {
   "cell_type": "markdown",
   "id": "638df571",
   "metadata": {},
   "source": [
    "`DataFrame`的创建方式：\n",
    "- 通过`字典`创建\n",
    "- 通过`index`可以设置索引值idx\n",
    "- 通过`column`可以设置每一列的列名，即创建时字典的`key`，例如上例的“奇数列”和“偶数列”，其中的顺序会影响每一列的位置\n"
   ]
  },
  {
   "cell_type": "code",
   "execution_count": 3,
   "id": "30715522",
   "metadata": {},
   "outputs": [
    {
     "name": "stdout",
     "output_type": "stream",
     "text": [
      "df1\n",
      "   姓名  年龄    学号\n",
      "0  张三  12  1001\n",
      "1  李四  13  1002\n",
      "2  王五  14  1003\n",
      "df2\n",
      "   姓名  年龄    学号\n",
      "2  张三  12  1001\n",
      "4  李四  13  1002\n",
      "6  王五  14  1003\n",
      "df3\n",
      "     学号  姓名  年龄\n",
      "3  1001  张三  12\n",
      "6  1002  李四  13\n",
      "9  1003  王五  14\n"
     ]
    }
   ],
   "source": [
    "import numpy as np\n",
    "import pandas as pd\n",
    "\n",
    "df1 = pd.DataFrame({\n",
    "    \"姓名\":[\"张三\",\"李四\",\"王五\"],\n",
    "    \"年龄\":[12, 13, 14],\n",
    "    \"学号\":[\"1001\", \"1002\", \"1003\"],\n",
    "})\n",
    "print(\"df1\")\n",
    "print(df1)\n",
    "\n",
    "df2 = pd.DataFrame({\n",
    "    \"姓名\":[\"张三\",\"李四\",\"王五\"],\n",
    "    \"年龄\":[12, 13, 14],\n",
    "    \"学号\":[\"1001\", \"1002\", \"1003\"],\n",
    "    },\n",
    "    index=range(2, 8, 2),\n",
    ")\n",
    "print(\"df2\")\n",
    "print(df2)\n",
    "\n",
    "df3 = pd.DataFrame({\n",
    "    \"姓名\":[\"张三\",\"李四\",\"王五\"],\n",
    "    \"年龄\":[12, 13, 14],\n",
    "    \"学号\":[\"1001\", \"1002\", \"1003\"],\n",
    "    },\n",
    "    index=range(3, 12, 3),\n",
    "    columns=[\"学号\", \"姓名\", \"年龄\"]\n",
    ")\n",
    "print(\"df3\")\n",
    "print(df3)"
   ]
  },
  {
   "cell_type": "markdown",
   "id": "bbd0778d",
   "metadata": {},
   "source": [
    "## DataFrame的属性\n",
    "\n",
    "| 属性      | 说明                     | 属性      | 说明                                   |\n",
    "| --------- | ------------------------ | --------- | -------------------------------------- |\n",
    "| index     | DataFrame的行索引        | loc[]     | 显式索引，按行列标签索引或切片           |\n",
    "| values    | DataFrame的值            | iloc[]    | 隐式索引，按行列位置索引或切片           |\n",
    "| dtypes    | DataFrame的元素类型      | at[]      | 使用行列标签访问单个元素                 |\n",
    "| shape     | DataFrame的形状          | iat[]     | 使用行列位置访问单个元素                 |\n",
    "| ndim      | DataFrame的维度          | T         | 行列转置                               |\n",
    "| size      | DataFrame的元素个数      |           |                                        |\n",
    "| columns   | DataFrame的列标签        |           |                                        |\n"
   ]
  },
  {
   "cell_type": "code",
   "execution_count": 4,
   "id": "8960507b",
   "metadata": {},
   "outputs": [
    {
     "name": "stdout",
     "output_type": "stream",
     "text": [
      "df3: \n",
      "\n",
      "     学号  姓名  年龄\n",
      "3  1001  张三  12\n",
      "6  1002  李四  13\n",
      "9  1003  王五  14\n",
      "行索引： [3, 6, 9]\n",
      "列标签:  ['学号', '姓名', '年龄']\n",
      "维度： 2\n",
      "形状： (3, 3)\n",
      "元素值：\n",
      " [['1001' '张三' 12]\n",
      " ['1002' '李四' 13]\n",
      " ['1003' '王五' 14]]\n",
      "转置：\n",
      "       3     6     9\n",
      "学号  1001  1002  1003\n",
      "姓名    张三    李四    王五\n",
      "年龄    12    13    14\n"
     ]
    }
   ],
   "source": [
    "print(\"df3: \\n\")\n",
    "print(df3)\n",
    "print(\"行索引：\", df3.index.tolist()) # 查看索引并将索引转换成列表形式\n",
    "print(\"列标签: \", df3.columns.tolist()) # 查看标签并将索引转换成列表形式\n",
    "print(\"维度：\", df3.ndim) # 查看维度\n",
    "print(\"形状：\", df3.shape) # 查看形状\n",
    "print(\"元素值：\\n\", df3.values) # 查看元素值\n",
    "print(\"转置：\")\n",
    "print(df3.T) # 查看转置"
   ]
  },
  {
   "cell_type": "code",
   "execution_count": 5,
   "id": "88141b57",
   "metadata": {},
   "outputs": [
    {
     "name": "stdout",
     "output_type": "stream",
     "text": [
      "按索引查找: \n",
      "     学号  姓名  年龄\n",
      "3  1001  张三  12\n",
      "6  1002  李四  13\n",
      "姓名列\n",
      "3    张三\n",
      "6    李四\n",
      "9    王五\n",
      "Name: 姓名, dtype: object\n",
      "按位置查找: \n",
      "学号    1003\n",
      "姓名      王五\n",
      "年龄      14\n",
      "Name: 9, dtype: object\n",
      "idx=3，col=姓名 的元素是：  张三\n",
      "idx下标为1，col下标为1的位置的元素是：  李四\n"
     ]
    }
   ],
   "source": [
    "# 获取元素的方式：loc iloc at iat \n",
    "print(\"按索引查找: \")\n",
    "print(df3.loc[3: 6]) # 按索引查找\n",
    "\n",
    "print(\"姓名列\") # 可以索引某行或者某列, loc[行区间， 列区间]\n",
    "print(df3.loc[ : , \"姓名\"])\n",
    "\n",
    "print(\"按位置查找: \")\n",
    "print(df3.iloc[2]) # 按位置查找\n",
    "\n",
    "print(\"idx=3，col=姓名 的元素是： \", df3.at[3, \"姓名\"]) # 使用 at 函数精确索引单个元素值\n",
    "print(\"idx下标为1，col下标为1的位置的元素是： \", df3.iat[1, 1]) # 使用 iat 函数进行隐式精确索引单个元素值\n"
   ]
  },
  {
   "cell_type": "code",
   "execution_count": 6,
   "id": "8af6b077",
   "metadata": {},
   "outputs": [
    {
     "name": "stdout",
     "output_type": "stream",
     "text": [
      "3    张三\n",
      "6    李四\n",
      "9    王五\n",
      "Name: 姓名, dtype: object\n",
      "3    张三\n",
      "6    李四\n",
      "9    王五\n",
      "Name: 姓名, dtype: object\n",
      "<class 'pandas.core.series.Series'>\n",
      "   姓名\n",
      "3  张三\n",
      "6  李四\n",
      "9  王五\n",
      "<class 'pandas.core.frame.DataFrame'>\n"
     ]
    }
   ],
   "source": [
    "name = df3[\"姓名\"]\n",
    "print(name) # 获取指定的单列数据\n",
    "print(df3.姓名) # 通过操作符  .  也可以直接获取该列的数据\n",
    "\n",
    "print(type(name)) # 该类型为  Series\n",
    "\n",
    "test = df3[[\"姓名\"]] # 取出DataFrame中的一列，该类型还是Datarame，该方法可以获取DataFrame中的多列数据\n",
    "print(test) \n",
    "print(type(test))"
   ]
  },
  {
   "cell_type": "code",
   "execution_count": 7,
   "id": "446bf8bd",
   "metadata": {},
   "outputs": [
    {
     "name": "stdout",
     "output_type": "stream",
     "text": [
      "前3行：\n",
      "   key  value\n",
      "0    2      1\n",
      "1    3      2\n",
      "2    4      3\n",
      "后3行：\n",
      "   key  value\n",
      "5    7      6\n",
      "6    8      7\n",
      "7    9      8\n"
     ]
    }
   ],
   "source": [
    "df4 = pd.DataFrame({\"key\": range(2,10),\n",
    "                    \"value\": range(1,9)})\n",
    "print(\"前3行：\")\n",
    "print(df4.head(3)) # 获取DataFrame的前5行数据\n",
    "print(\"后3行：\")\n",
    "print(df4.tail(3)) # 获取DataFrame的后五行数据"
   ]
  },
  {
   "cell_type": "code",
   "execution_count": 8,
   "id": "ff3cb2bf",
   "metadata": {},
   "outputs": [
    {
     "name": "stdout",
     "output_type": "stream",
     "text": [
      "   key  value\n",
      "0    2      1\n",
      "1    3      2\n",
      "2    4      3\n",
      "3    5      4\n",
      "4    6      5\n",
      "5    7      6\n",
      "6    8      7\n",
      "7    9      8\n",
      "value>5的部分\n",
      "   key  value\n",
      "5    7      6\n",
      "6    8      7\n",
      "7    9      8\n",
      "value>5且key也大于5的部分\n",
      "   key  value\n",
      "5    7      6\n",
      "6    8      7\n",
      "7    9      8\n"
     ]
    }
   ],
   "source": [
    "print(df4)\n",
    "print(\"value>5的部分\") # 利用bool索引筛选符合条件的Datarame\n",
    "print(df4[df4.value>5]) \n",
    "print(\"value>5且key也大于5的部分\")\n",
    "print(df4[(df4.value>5) & (df4.key>5)])"
   ]
  },
  {
   "cell_type": "code",
   "execution_count": 9,
   "id": "2434fdc5",
   "metadata": {},
   "outputs": [
    {
     "name": "stdout",
     "output_type": "stream",
     "text": [
      "   key  value\n",
      "4    6      5\n"
     ]
    }
   ],
   "source": [
    "print(df4.sample()) # sample(num)函数可以随机对DataFrame进行抽样，数量可以指定，默认为1"
   ]
  },
  {
   "cell_type": "markdown",
   "id": "ee93f437",
   "metadata": {},
   "source": [
    "## DataFrame的常用方法\n",
    "\n",
    "| 方法        | 说明                              | 方法        | 说明                                          |\n",
    "| ----------- | --------------------------------- | ----------- | --------------------------------------------- |\n",
    "| head()      | 查看前 n 行数据，默认 5 行          | max()       | 最大值                                          |\n",
    "| tail()      | 查看后 n 行数据，默认 5 行          | var()       | 方差                                          |\n",
    "| isin()      | 判断元素是否包含在参数集合中        | std()       | 标准差                                        |\n",
    "| isna()      | 判断是否为缺失值（如 NaN 或 None） | median()    | 中位数                                        |\n",
    "| sum()       | 求和，自动忽略缺失值                | mode()      | 众数（可返回多个）                              |\n",
    "| mean()      | 平均值                            | quantile(q) | 分位数，q 取 0~1 之间                          |\n",
    "| min()       | 最小值                            | describe()  | 常见统计信息（count、mean、std、min、25%、50%、75%、max） |\n",
    "| value_counts()     | 每个唯一值的出现次数 | sort_values()    | 按值排序                 |\n",
    "| count()            | 非缺失值数量         | replace()        | 替换值                   |\n",
    "| duplicated()       | 是否重复             | nlargest()       | 返回某列最大的n条数据    |\n",
    "| drop_duplicates()  | 去除重复项           | nsmallest()      | 返回某列最小的n条数据    |\n",
    "| sample()           | 随机抽样             |                  |                          |\n",
    "| replace()          | 替换值               |                  |                          |\n",
    "| sort_index()       | 按索引排序           |                  |                          |\n",
    "\n"
   ]
  },
  {
   "cell_type": "code",
   "execution_count": 10,
   "id": "30aa508c",
   "metadata": {},
   "outputs": [
    {
     "name": "stdout",
     "output_type": "stream",
     "text": [
      "   key  value\n",
      "0    2      1\n",
      "1    3      2\n",
      "2    4      3\n",
      "3    5      4\n",
      "4    6      5\n",
      "5    7      6\n",
      "6    8      7\n",
      "7    9      8\n"
     ]
    }
   ],
   "source": [
    "print(df4)"
   ]
  },
  {
   "cell_type": "code",
   "execution_count": null,
   "id": "e04bdf0d",
   "metadata": {},
   "outputs": [
    {
     "data": {
      "text/html": [
       "<div>\n",
       "<style scoped>\n",
       "    .dataframe tbody tr th:only-of-type {\n",
       "        vertical-align: middle;\n",
       "    }\n",
       "\n",
       "    .dataframe tbody tr th {\n",
       "        vertical-align: top;\n",
       "    }\n",
       "\n",
       "    .dataframe thead th {\n",
       "        text-align: right;\n",
       "    }\n",
       "</style>\n",
       "<table border=\"1\" class=\"dataframe\">\n",
       "  <thead>\n",
       "    <tr style=\"text-align: right;\">\n",
       "      <th></th>\n",
       "      <th>key</th>\n",
       "      <th>value</th>\n",
       "    </tr>\n",
       "  </thead>\n",
       "  <tbody>\n",
       "    <tr>\n",
       "      <th>0</th>\n",
       "      <td>2</td>\n",
       "      <td>1</td>\n",
       "    </tr>\n",
       "    <tr>\n",
       "      <th>1</th>\n",
       "      <td>3</td>\n",
       "      <td>2</td>\n",
       "    </tr>\n",
       "    <tr>\n",
       "      <th>2</th>\n",
       "      <td>4</td>\n",
       "      <td>3</td>\n",
       "    </tr>\n",
       "    <tr>\n",
       "      <th>3</th>\n",
       "      <td>5</td>\n",
       "      <td>4</td>\n",
       "    </tr>\n",
       "    <tr>\n",
       "      <th>4</th>\n",
       "      <td>6</td>\n",
       "      <td>5</td>\n",
       "    </tr>\n",
       "  </tbody>\n",
       "</table>\n",
       "</div>"
      ],
      "text/plain": [
       "   key  value\n",
       "0    2      1\n",
       "1    3      2\n",
       "2    4      3\n",
       "3    5      4\n",
       "4    6      5"
      ]
     },
     "execution_count": 11,
     "metadata": {},
     "output_type": "execute_result"
    }
   ],
   "source": [
    "df4.head() # 查看前n行数据，默认5行"
   ]
  },
  {
   "cell_type": "code",
   "execution_count": 12,
   "id": "0d4326f8",
   "metadata": {},
   "outputs": [
    {
     "data": {
      "text/html": [
       "<div>\n",
       "<style scoped>\n",
       "    .dataframe tbody tr th:only-of-type {\n",
       "        vertical-align: middle;\n",
       "    }\n",
       "\n",
       "    .dataframe tbody tr th {\n",
       "        vertical-align: top;\n",
       "    }\n",
       "\n",
       "    .dataframe thead th {\n",
       "        text-align: right;\n",
       "    }\n",
       "</style>\n",
       "<table border=\"1\" class=\"dataframe\">\n",
       "  <thead>\n",
       "    <tr style=\"text-align: right;\">\n",
       "      <th></th>\n",
       "      <th>奇数列</th>\n",
       "      <th>偶数列</th>\n",
       "    </tr>\n",
       "  </thead>\n",
       "  <tbody>\n",
       "    <tr>\n",
       "      <th>0</th>\n",
       "      <td>1</td>\n",
       "      <td>2</td>\n",
       "    </tr>\n",
       "    <tr>\n",
       "      <th>1</th>\n",
       "      <td>3</td>\n",
       "      <td>4</td>\n",
       "    </tr>\n",
       "    <tr>\n",
       "      <th>2</th>\n",
       "      <td>5</td>\n",
       "      <td>6</td>\n",
       "    </tr>\n",
       "    <tr>\n",
       "      <th>3</th>\n",
       "      <td>7</td>\n",
       "      <td>8</td>\n",
       "    </tr>\n",
       "    <tr>\n",
       "      <th>4</th>\n",
       "      <td>9</td>\n",
       "      <td>10</td>\n",
       "    </tr>\n",
       "  </tbody>\n",
       "</table>\n",
       "</div>"
      ],
      "text/plain": [
       "   奇数列  偶数列\n",
       "0    1    2\n",
       "1    3    4\n",
       "2    5    6\n",
       "3    7    8\n",
       "4    9   10"
      ]
     },
     "execution_count": 12,
     "metadata": {},
     "output_type": "execute_result"
    }
   ],
   "source": [
    "df.tail() # 查看后n行数据，默认是5行"
   ]
  },
  {
   "cell_type": "code",
   "execution_count": 15,
   "id": "8e0181be",
   "metadata": {},
   "outputs": [
    {
     "data": {
      "text/html": [
       "<div>\n",
       "<style scoped>\n",
       "    .dataframe tbody tr th:only-of-type {\n",
       "        vertical-align: middle;\n",
       "    }\n",
       "\n",
       "    .dataframe tbody tr th {\n",
       "        vertical-align: top;\n",
       "    }\n",
       "\n",
       "    .dataframe thead th {\n",
       "        text-align: right;\n",
       "    }\n",
       "</style>\n",
       "<table border=\"1\" class=\"dataframe\">\n",
       "  <thead>\n",
       "    <tr style=\"text-align: right;\">\n",
       "      <th></th>\n",
       "      <th>key</th>\n",
       "      <th>value</th>\n",
       "    </tr>\n",
       "  </thead>\n",
       "  <tbody>\n",
       "    <tr>\n",
       "      <th>0</th>\n",
       "      <td>False</td>\n",
       "      <td>True</td>\n",
       "    </tr>\n",
       "    <tr>\n",
       "      <th>1</th>\n",
       "      <td>False</td>\n",
       "      <td>False</td>\n",
       "    </tr>\n",
       "    <tr>\n",
       "      <th>2</th>\n",
       "      <td>False</td>\n",
       "      <td>False</td>\n",
       "    </tr>\n",
       "    <tr>\n",
       "      <th>3</th>\n",
       "      <td>False</td>\n",
       "      <td>False</td>\n",
       "    </tr>\n",
       "    <tr>\n",
       "      <th>4</th>\n",
       "      <td>False</td>\n",
       "      <td>False</td>\n",
       "    </tr>\n",
       "    <tr>\n",
       "      <th>5</th>\n",
       "      <td>False</td>\n",
       "      <td>False</td>\n",
       "    </tr>\n",
       "    <tr>\n",
       "      <th>6</th>\n",
       "      <td>False</td>\n",
       "      <td>False</td>\n",
       "    </tr>\n",
       "    <tr>\n",
       "      <th>7</th>\n",
       "      <td>False</td>\n",
       "      <td>False</td>\n",
       "    </tr>\n",
       "  </tbody>\n",
       "</table>\n",
       "</div>"
      ],
      "text/plain": [
       "     key  value\n",
       "0  False   True\n",
       "1  False  False\n",
       "2  False  False\n",
       "3  False  False\n",
       "4  False  False\n",
       "5  False  False\n",
       "6  False  False\n",
       "7  False  False"
      ]
     },
     "execution_count": 15,
     "metadata": {},
     "output_type": "execute_result"
    }
   ],
   "source": [
    "df4.isin([1]) # 查看某些元素是否在DataFrame中"
   ]
  },
  {
   "cell_type": "code",
   "execution_count": 17,
   "id": "5b17f977",
   "metadata": {},
   "outputs": [
    {
     "data": {
      "text/html": [
       "<div>\n",
       "<style scoped>\n",
       "    .dataframe tbody tr th:only-of-type {\n",
       "        vertical-align: middle;\n",
       "    }\n",
       "\n",
       "    .dataframe tbody tr th {\n",
       "        vertical-align: top;\n",
       "    }\n",
       "\n",
       "    .dataframe thead th {\n",
       "        text-align: right;\n",
       "    }\n",
       "</style>\n",
       "<table border=\"1\" class=\"dataframe\">\n",
       "  <thead>\n",
       "    <tr style=\"text-align: right;\">\n",
       "      <th></th>\n",
       "      <th>key</th>\n",
       "      <th>value</th>\n",
       "    </tr>\n",
       "  </thead>\n",
       "  <tbody>\n",
       "    <tr>\n",
       "      <th>0</th>\n",
       "      <td>False</td>\n",
       "      <td>False</td>\n",
       "    </tr>\n",
       "    <tr>\n",
       "      <th>1</th>\n",
       "      <td>False</td>\n",
       "      <td>False</td>\n",
       "    </tr>\n",
       "    <tr>\n",
       "      <th>2</th>\n",
       "      <td>False</td>\n",
       "      <td>False</td>\n",
       "    </tr>\n",
       "    <tr>\n",
       "      <th>3</th>\n",
       "      <td>False</td>\n",
       "      <td>False</td>\n",
       "    </tr>\n",
       "    <tr>\n",
       "      <th>4</th>\n",
       "      <td>False</td>\n",
       "      <td>False</td>\n",
       "    </tr>\n",
       "    <tr>\n",
       "      <th>5</th>\n",
       "      <td>False</td>\n",
       "      <td>False</td>\n",
       "    </tr>\n",
       "    <tr>\n",
       "      <th>6</th>\n",
       "      <td>False</td>\n",
       "      <td>False</td>\n",
       "    </tr>\n",
       "    <tr>\n",
       "      <th>7</th>\n",
       "      <td>False</td>\n",
       "      <td>False</td>\n",
       "    </tr>\n",
       "  </tbody>\n",
       "</table>\n",
       "</div>"
      ],
      "text/plain": [
       "     key  value\n",
       "0  False  False\n",
       "1  False  False\n",
       "2  False  False\n",
       "3  False  False\n",
       "4  False  False\n",
       "5  False  False\n",
       "6  False  False\n",
       "7  False  False"
      ]
     },
     "execution_count": 17,
     "metadata": {},
     "output_type": "execute_result"
    }
   ],
   "source": [
    "df4.isna() # 查看元素是否为缺失值"
   ]
  },
  {
   "cell_type": "code",
   "execution_count": 35,
   "id": "84f7a69c",
   "metadata": {},
   "outputs": [
    {
     "name": "stdout",
     "output_type": "stream",
     "text": [
      "key      44\n",
      "value    36\n",
      "dtype: int64\n",
      "--------------------\n",
      "key      9\n",
      "value    8\n",
      "dtype: int64\n",
      "--------------------\n",
      "key      2\n",
      "value    1\n",
      "dtype: int64\n",
      "--------------------\n",
      "key      5.5\n",
      "value    4.5\n",
      "dtype: float64\n",
      "--------------------\n",
      "           key    value\n",
      "count  8.00000  8.00000\n",
      "mean   5.50000  4.50000\n",
      "std    2.44949  2.44949\n",
      "min    2.00000  1.00000\n",
      "25%    3.75000  2.75000\n",
      "50%    5.50000  4.50000\n",
      "75%    7.25000  6.25000\n",
      "max    9.00000  8.00000\n",
      "--------------------\n",
      "   key  value\n",
      "0    2      1\n",
      "1    5      3\n",
      "2    9      6\n",
      "3   14     10\n",
      "4   20     15\n",
      "5   27     21\n",
      "6   35     28\n",
      "7   44     36\n"
     ]
    }
   ],
   "source": [
    "print(df4.sum()) # 同时对DataFrame中的每一列元素进行求和\n",
    "print(\"-\"*20)\n",
    "print(df4.max()) # 同时求每一列的最大值/最小值\n",
    "print(\"-\"*20)\n",
    "print(df4.min())\n",
    "print(\"-\"*20)\n",
    "print(df4.mean())# 同时对每一列求平均\n",
    "print(\"-\"*20)\n",
    "print(df4.describe()) # 同时给出所有列的描述信息\n",
    "print(\"-\"*20)\n",
    "print(df4.cumsum()) # 对每一列累计求和，可以通过  axis  参数指定求和的方向，默认为0，同理使用的还有  cummax  以及  cummin"
   ]
  },
  {
   "cell_type": "code",
   "execution_count": 36,
   "id": "1abaf200",
   "metadata": {},
   "outputs": [
    {
     "name": "stdout",
     "output_type": "stream",
     "text": [
      "36\n",
      "--------------------\n",
      "8\n",
      "--------------------\n",
      "1\n",
      "--------------------\n",
      "4.5\n",
      "--------------------\n",
      "count    8.00000\n",
      "mean     4.50000\n",
      "std      2.44949\n",
      "min      1.00000\n",
      "25%      2.75000\n",
      "50%      4.50000\n",
      "75%      6.25000\n",
      "max      8.00000\n",
      "Name: value, dtype: float64\n",
      "--------------------\n",
      "0     1\n",
      "1     3\n",
      "2     6\n",
      "3    10\n",
      "4    15\n",
      "5    21\n",
      "6    28\n",
      "7    36\n",
      "Name: value, dtype: int64\n"
     ]
    }
   ],
   "source": [
    "print(df4[\"value\"].sum()) # 直接对指定的某一列进行求和\n",
    "print(\"-\"*20)\n",
    "print(df4[\"value\"].max()) # 求某一列的最大值/最小值\n",
    "print(\"-\"*20)\n",
    "print(df4[\"value\"].min())\n",
    "print(\"-\"*20)\n",
    "print(df4[\"value\"].mean()) # 对指定的列求平均\n",
    "print(\"-\"*20)\n",
    "print(df4[\"value\"].describe()) # 指定某一列的描述信息\n",
    "print(\"-\"*20)\n",
    "print(df4[\"value\"].cumsum()) # 对指定列进行累计求和"
   ]
  },
  {
   "cell_type": "code",
   "execution_count": 46,
   "id": "85f52bbc",
   "metadata": {},
   "outputs": [
    {
     "data": {
      "text/html": [
       "<div>\n",
       "<style scoped>\n",
       "    .dataframe tbody tr th:only-of-type {\n",
       "        vertical-align: middle;\n",
       "    }\n",
       "\n",
       "    .dataframe tbody tr th {\n",
       "        vertical-align: top;\n",
       "    }\n",
       "\n",
       "    .dataframe thead th {\n",
       "        text-align: right;\n",
       "    }\n",
       "</style>\n",
       "<table border=\"1\" class=\"dataframe\">\n",
       "  <thead>\n",
       "    <tr style=\"text-align: right;\">\n",
       "      <th></th>\n",
       "      <th>id</th>\n",
       "      <th>idx</th>\n",
       "      <th>idxx</th>\n",
       "    </tr>\n",
       "  </thead>\n",
       "  <tbody>\n",
       "    <tr>\n",
       "      <th>0</th>\n",
       "      <td>1</td>\n",
       "      <td>10</td>\n",
       "      <td>117</td>\n",
       "    </tr>\n",
       "    <tr>\n",
       "      <th>1</th>\n",
       "      <td>4</td>\n",
       "      <td>12</td>\n",
       "      <td>112</td>\n",
       "    </tr>\n",
       "    <tr>\n",
       "      <th>2</th>\n",
       "      <td>2</td>\n",
       "      <td>14</td>\n",
       "      <td>111</td>\n",
       "    </tr>\n",
       "    <tr>\n",
       "      <th>3</th>\n",
       "      <td>2</td>\n",
       "      <td>10</td>\n",
       "      <td>112</td>\n",
       "    </tr>\n",
       "    <tr>\n",
       "      <th>4</th>\n",
       "      <td>2</td>\n",
       "      <td>13</td>\n",
       "      <td>104</td>\n",
       "    </tr>\n",
       "    <tr>\n",
       "      <th>5</th>\n",
       "      <td>1</td>\n",
       "      <td>14</td>\n",
       "      <td>103</td>\n",
       "    </tr>\n",
       "  </tbody>\n",
       "</table>\n",
       "</div>"
      ],
      "text/plain": [
       "   id  idx  idxx\n",
       "0   1   10   117\n",
       "1   4   12   112\n",
       "2   2   14   111\n",
       "3   2   10   112\n",
       "4   2   13   104\n",
       "5   1   14   103"
      ]
     },
     "execution_count": 46,
     "metadata": {},
     "output_type": "execute_result"
    }
   ],
   "source": [
    "df5 = pd.DataFrame({\n",
    "    \"id\": np.random.randint(1, 5, 6),\n",
    "    \"idx\": np.random.randint(10, 15, 6),\n",
    "    \"idxx\": np.random.randint(100, 120, 6),\n",
    "    },\n",
    "    columns=[\"id\", \"idx\", \"idxx\"],\n",
    ")\n",
    "\n",
    "df5"
   ]
  },
  {
   "cell_type": "code",
   "execution_count": 47,
   "id": "6c182262",
   "metadata": {},
   "outputs": [
    {
     "data": {
      "text/html": [
       "<div>\n",
       "<style scoped>\n",
       "    .dataframe tbody tr th:only-of-type {\n",
       "        vertical-align: middle;\n",
       "    }\n",
       "\n",
       "    .dataframe tbody tr th {\n",
       "        vertical-align: top;\n",
       "    }\n",
       "\n",
       "    .dataframe thead th {\n",
       "        text-align: right;\n",
       "    }\n",
       "</style>\n",
       "<table border=\"1\" class=\"dataframe\">\n",
       "  <thead>\n",
       "    <tr style=\"text-align: right;\">\n",
       "      <th></th>\n",
       "      <th>id</th>\n",
       "      <th>idx</th>\n",
       "      <th>idxx</th>\n",
       "    </tr>\n",
       "  </thead>\n",
       "  <tbody>\n",
       "    <tr>\n",
       "      <th>0</th>\n",
       "      <td>1</td>\n",
       "      <td>10</td>\n",
       "      <td>117</td>\n",
       "    </tr>\n",
       "    <tr>\n",
       "      <th>1</th>\n",
       "      <td>4</td>\n",
       "      <td>12</td>\n",
       "      <td>112</td>\n",
       "    </tr>\n",
       "    <tr>\n",
       "      <th>2</th>\n",
       "      <td>2</td>\n",
       "      <td>14</td>\n",
       "      <td>111</td>\n",
       "    </tr>\n",
       "    <tr>\n",
       "      <th>3</th>\n",
       "      <td>2</td>\n",
       "      <td>10</td>\n",
       "      <td>112</td>\n",
       "    </tr>\n",
       "    <tr>\n",
       "      <th>4</th>\n",
       "      <td>2</td>\n",
       "      <td>13</td>\n",
       "      <td>104</td>\n",
       "    </tr>\n",
       "    <tr>\n",
       "      <th>5</th>\n",
       "      <td>1</td>\n",
       "      <td>14</td>\n",
       "      <td>103</td>\n",
       "    </tr>\n",
       "  </tbody>\n",
       "</table>\n",
       "</div>"
      ],
      "text/plain": [
       "   id  idx  idxx\n",
       "0   1   10   117\n",
       "1   4   12   112\n",
       "2   2   14   111\n",
       "3   2   10   112\n",
       "4   2   13   104\n",
       "5   1   14   103"
      ]
     },
     "execution_count": 47,
     "metadata": {},
     "output_type": "execute_result"
    }
   ],
   "source": [
    "df5.sort_index() # 对整个DataFrame进行排序，排序对象为索引"
   ]
  },
  {
   "cell_type": "code",
   "execution_count": 48,
   "id": "952dc75a",
   "metadata": {},
   "outputs": [
    {
     "data": {
      "text/html": [
       "<div>\n",
       "<style scoped>\n",
       "    .dataframe tbody tr th:only-of-type {\n",
       "        vertical-align: middle;\n",
       "    }\n",
       "\n",
       "    .dataframe tbody tr th {\n",
       "        vertical-align: top;\n",
       "    }\n",
       "\n",
       "    .dataframe thead th {\n",
       "        text-align: right;\n",
       "    }\n",
       "</style>\n",
       "<table border=\"1\" class=\"dataframe\">\n",
       "  <thead>\n",
       "    <tr style=\"text-align: right;\">\n",
       "      <th></th>\n",
       "      <th>id</th>\n",
       "      <th>idx</th>\n",
       "      <th>idxx</th>\n",
       "    </tr>\n",
       "  </thead>\n",
       "  <tbody>\n",
       "    <tr>\n",
       "      <th>0</th>\n",
       "      <td>1</td>\n",
       "      <td>10</td>\n",
       "      <td>117</td>\n",
       "    </tr>\n",
       "    <tr>\n",
       "      <th>3</th>\n",
       "      <td>2</td>\n",
       "      <td>10</td>\n",
       "      <td>112</td>\n",
       "    </tr>\n",
       "    <tr>\n",
       "      <th>1</th>\n",
       "      <td>4</td>\n",
       "      <td>12</td>\n",
       "      <td>112</td>\n",
       "    </tr>\n",
       "    <tr>\n",
       "      <th>4</th>\n",
       "      <td>2</td>\n",
       "      <td>13</td>\n",
       "      <td>104</td>\n",
       "    </tr>\n",
       "    <tr>\n",
       "      <th>2</th>\n",
       "      <td>2</td>\n",
       "      <td>14</td>\n",
       "      <td>111</td>\n",
       "    </tr>\n",
       "    <tr>\n",
       "      <th>5</th>\n",
       "      <td>1</td>\n",
       "      <td>14</td>\n",
       "      <td>103</td>\n",
       "    </tr>\n",
       "  </tbody>\n",
       "</table>\n",
       "</div>"
      ],
      "text/plain": [
       "   id  idx  idxx\n",
       "0   1   10   117\n",
       "3   2   10   112\n",
       "1   4   12   112\n",
       "4   2   13   104\n",
       "2   2   14   111\n",
       "5   1   14   103"
      ]
     },
     "execution_count": 48,
     "metadata": {},
     "output_type": "execute_result"
    }
   ],
   "source": [
    "df5.sort_values(by=\"idx\") # 对整个DataFrame进行排序，排序对象为值，需要通过  by  参数来指定排序的列"
   ]
  },
  {
   "cell_type": "code",
   "execution_count": 54,
   "id": "2908c005",
   "metadata": {},
   "outputs": [
    {
     "name": "stdout",
     "output_type": "stream",
     "text": [
      "   id  idx  idxx\n",
      "3   2   10   112\n",
      "0   1   10   117\n",
      "1   4   12   112\n",
      "4   2   13   104\n",
      "5   1   14   103\n",
      "2   2   14   111\n",
      "--------------------\n",
      "   id  idx  idxx\n",
      "0   1   10   117\n",
      "3   2   10   112\n",
      "1   4   12   112\n",
      "4   2   13   104\n",
      "2   2   14   111\n",
      "5   1   14   103\n"
     ]
    }
   ],
   "source": [
    "# by参数可以接收多个待排序对象，同时可以通过  ascending  参数指定这两个对象的排序方向，后一个对象在前一个对象排序完成的基础上进行微调\n",
    "print(df5.sort_values(by=[\"idx\", \"idxx\"]))\n",
    "print(\"-\"*20)\n",
    "print(df5.sort_values(by=[\"idx\", \"idxx\"], ascending=[True, False])) # 关注本例中的索引为0和3的两行数据"
   ]
  },
  {
   "cell_type": "code",
   "execution_count": 59,
   "id": "acff7959",
   "metadata": {},
   "outputs": [
    {
     "name": "stdout",
     "output_type": "stream",
     "text": [
      "   id  idx  idxx\n",
      "1   4   12   112\n",
      "2   2   14   111\n",
      "3   2   10   112\n",
      "--------------------\n",
      "   id  idx  idxx\n",
      "1   4   12   112\n",
      "3   2   10   112\n",
      "2   2   14   111\n"
     ]
    }
   ],
   "source": [
    "# nlargest(num, columns)：指定每一列的前num个数据，columns表示可以指定多列一起参与排序\n",
    "print(df5.nlargest(3, \"id\"))\n",
    "print(\"-\"*20)\n",
    "print(df5.nlargest(3, columns=[\"id\", \"idxx\"])) # 参考索引为2和3两行数据"
   ]
  }
 ],
 "metadata": {
  "kernelspec": {
   "display_name": "Data_analyse",
   "language": "python",
   "name": "python3"
  },
  "language_info": {
   "codemirror_mode": {
    "name": "ipython",
    "version": 3
   },
   "file_extension": ".py",
   "mimetype": "text/x-python",
   "name": "python",
   "nbconvert_exporter": "python",
   "pygments_lexer": "ipython3",
   "version": "3.10.18"
  }
 },
 "nbformat": 4,
 "nbformat_minor": 5
}
